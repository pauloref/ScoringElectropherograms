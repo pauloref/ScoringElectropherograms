{
 "cells": [
  {
   "cell_type": "code",
   "execution_count": 1,
   "metadata": {
    "collapsed": true,
    "pycharm": {
     "is_executing": false
    }
   },
   "outputs": [],
   "source": [
    "import pandas as pd\n",
    "import matplotlib.pyplot as plt\n",
    "import numpy as np \n",
    "from sklearn import preprocessing\n",
    "from scipy import signal\n",
    "import plotly.graph_objects as go\n",
    "\n",
    "import os\n"
   ]
  },
  {
   "cell_type": "code",
   "execution_count": null,
   "metadata": {
    "pycharm": {
     "is_executing": true,
     "name": "#%%\n"
    }
   },
   "outputs": [],
   "source": [
    "#print(os.getcwd())\n",
    "u_df = pd.read_csv('../unlabelled_skin_assay.csv')\n",
    "u_df.head()"
   ]
  },
  {
   "cell_type": "code",
   "execution_count": null,
   "metadata": {
    "pycharm": {
     "is_executing": true,
     "name": "#%%\n"
    }
   },
   "outputs": [],
   "source": [
    "pfux7_in_df = pd.read_csv('../TrainingLib/pfux7/input_data_pfux7.csv')\n",
    "pfux7_out_df = pd.read_csv('../TrainingLib/pfux7/output_data_pfux7.csv')\n",
    "gel_in_df = pd.read_csv('../TrainingLib/geltesting/input_data_gel_v3.csv')\n",
    "gel_out_df = pd.read_csv('../TrainingLib/geltesting/output_data_gel_v3.csv')"
   ]
  },
  {
   "cell_type": "code",
   "execution_count": null,
   "metadata": {
    "pycharm": {
     "is_executing": true,
     "name": "#%%\n"
    }
   },
   "outputs": [],
   "source": [
    "gel_in_df.head()"
   ]
  },
  {
   "cell_type": "code",
   "execution_count": null,
   "metadata": {
    "pycharm": {
     "is_executing": true,
     "name": "#%%\n"
    }
   },
   "outputs": [],
   "source": [
    "gel_df = gel_in_df.merge(gel_out_df,left_on='Row',right_on='Wells')"
   ]
  },
  {
   "cell_type": "code",
   "execution_count": null,
   "metadata": {
    "pycharm": {
     "is_executing": true,
     "name": "#%%\n"
    }
   },
   "outputs": [],
   "source": [
    "pfux7_df = pfux7_in_df.merge(pfux7_out_df,left_on='Row',right_on='Wells')\n",
    "\n"
   ]
  },
  {
   "cell_type": "code",
   "execution_count": null,
   "metadata": {
    "pycharm": {
     "is_executing": true,
     "name": "#%%\n"
    }
   },
   "outputs": [],
   "source": [
    "df = pd.concat([gel_df,pfux7_df])\n",
    "df.to_csv('../TrainingLib/semi_supervised/labelled_data.csv')\n",
    "del(gel_in_df)\n",
    "del(gel_out_df)\n",
    "del(pfux7_in_df)\n",
    "del(pfux7_out_df)"
   ]
  },
  {
   "cell_type": "markdown",
   "metadata": {
    "pycharm": {
     "name": "#%% md\n"
    }
   },
   "source": [
    "## Peak Extraction\n",
    "In this section we will take the raw electropherograms and extract individual peaks. For that we need to preprocess \n",
    "the data. "
   ]
  },
  {
   "cell_type": "markdown",
   "metadata": {},
   "source": [
    "### Preprocessing\n",
    "We will transform the signal so that it is normalized and noise-free. \n"
   ]
  },
  {
   "cell_type": "code",
   "execution_count": 14,
   "metadata": {
    "pycharm": {
     "is_executing": false,
     "name": "#%%\n"
    }
   },
   "outputs": [],
   "source": [
    "df= pd.read_csv('../TrainingLib/semi_supervised/labelled_data.csv',index_col=0)\n",
    "u_df = pd.read_csv('../unlabelled_skin_assay.csv')"
   ]
  },
  {
   "cell_type": "code",
   "execution_count": 15,
   "metadata": {
    "pycharm": {
     "is_executing": false,
     "name": "#%%\n"
    }
   },
   "outputs": [],
   "source": [
    "df = df.drop('Wells',axis=1).set_index('Row')"
   ]
  },
  {
   "cell_type": "code",
   "execution_count": 123,
   "metadata": {
    "pycharm": {
     "is_executing": false,
     "name": "#%%\n"
    }
   },
   "outputs": [],
   "source": [
    "X_l = df.filter(regex='t_',axis=1).copy()\n",
    "X_u = u_df.filter(regex='t_',axis=1).copy()"
   ]
  },
  {
   "cell_type": "code",
   "execution_count": 124,
   "metadata": {
    "pycharm": {
     "is_executing": false,
     "name": "#%%\n"
    }
   },
   "outputs": [],
   "source": [
    "# Gaussian Filter\n",
    "X_l_f = X_l\\\n",
    "    .rolling(window=10,win_type='general_gaussian',center=True,axis=1)\\\n",
    "    .mean(power=2,width=0.8)\n",
    "X_u_f = X_u\\\n",
    "    .rolling(window=10,win_type='general_gaussian',center=True,axis=1)\\\n",
    "    .mean(power=2,width=0.8)\n",
    "# Remove baseline\n",
    "X_l_f = X_l_f\\\n",
    "    .add(-X_l_f.rolling(window=50,min_periods=1,axis=1).min())\n",
    "X_u_f = X_u_f\\\n",
    "    .add(-X_u_f.rolling(window=50,min_periods=1,axis=1).min())\n",
    "# Min Max Scale\n",
    "x_l_f = X_l_f.values #returns a numpy array\n",
    "x_u_f = X_u_f.values\n",
    "min_max_scaler = preprocessing.MinMaxScaler()\n",
    "x_scaled_l = np.transpose(min_max_scaler.fit_transform(x_l_f.T))\n",
    "x_scaled_u = np.transpose(min_max_scaler.fit_transform(x_u_f.T))\n",
    "X_l_f = pd.DataFrame(x_scaled_l,columns=X_l.columns)\n",
    "X_u_f = pd.DataFrame(x_scaled_u,columns=X_u.columns)\n",
    "\n"
   ]
  },
  {
   "cell_type": "code",
   "execution_count": 125,
   "metadata": {
    "pycharm": {
     "is_executing": false,
     "name": "#%%\n"
    }
   },
   "outputs": [],
   "source": [
    "#x_f = X_l_f.sample(n=1,random_state=10).values\n",
    "#x = X_l.sample(n=1,random_state=10).values\n",
    "x_f = X_l_f.iloc[0,:].values\n",
    "x = X_l.iloc[0,:].values\n",
    "#x = X_l.sample(n=1).values"
   ]
  },
  {
   "cell_type": "code",
   "execution_count": 126,
   "metadata": {
    "pycharm": {
     "is_executing": false,
     "name": "#%%\n"
    }
   },
   "outputs": [
    {
     "data": {
      "image/png": "[encoded data removed]",
      "text/plain": [
       "<Figure size 432x288 with 2 Axes>"
      ]
     },
     "metadata": {
      "needs_background": "light"
     },
     "output_type": "display_data"
    }
   ],
   "source": [
    "fig,ax = plt.subplots(nrows=2)\n",
    "ax[0].plot(x.flatten())\n",
    "ax[0].set_title('original')\n",
    "ax[1].plot(x_f.flatten())\n",
    "ax[1].set_title('modified')\n",
    "plt.tight_layout()"
   ]
  },
  {
   "cell_type": "code",
   "execution_count": 127,
   "metadata": {
    "pycharm": {
     "is_executing": false,
     "name": "#%%\n"
    }
   },
   "outputs": [],
   "source": [
    "del(X_l)\n",
    "del(X_u)\n",
    "del(x_u_f)\n",
    "del(x_l_f)\n",
    "del(x_scaled_l)\n",
    "del(x_scaled_u)\n",
    "del(min_max_scaler)"
   ]
  },
  {
   "cell_type": "markdown",
   "metadata": {
    "pycharm": {
     "name": "#%% md\n"
    }
   },
   "source": [
    "### Peak Extraction\n",
    "We will now extract peaks and their position\n"
   ]
  },
  {
   "cell_type": "code",
   "execution_count": 128,
   "metadata": {
    "pycharm": {
     "is_executing": false,
     "name": "#%%\n"
    }
   },
   "outputs": [],
   "source": [
    "X_l_f.set_index(df.index,inplace=True)\n",
    "X_u_f.set_index(u_df.index,inplace=True)"
   ]
  },
  {
   "cell_type": "code",
   "execution_count": 129,
   "metadata": {
    "pycharm": {
     "is_executing": false,
     "name": "#%%\n"
    }
   },
   "outputs": [],
   "source": [
    "def get_peaks(df,window,start=1500):\n",
    "    pk_data = []\n",
    "    for idx,row in df.iterrows():\n",
    "        peaks = signal.find_peaks(row.values,prominence=0.1)\n",
    "        #check if blank\n",
    "        if len(peaks[0]) >= 20:\n",
    "            continue\n",
    "        for loc,prom in zip(peaks[0],peaks[1].get('prominences')):\n",
    "            pk = row.values[loc-window:loc+window]\n",
    "            t = start + loc\n",
    "            pk = [idx,t] + pk.flatten().tolist()\n",
    "            pk_data.append(pk)\n",
    "    out = pd.DataFrame(pk_data)\n",
    "    out.rename({0:'file_id',1:'x'},axis=1,inplace=True)\n",
    "    \n",
    "    return out\n",
    "peak_df = get_peaks(X_l_f,10)"
   ]
  },
  {
   "cell_type": "code",
   "execution_count": 130,
   "metadata": {
    "pycharm": {
     "is_executing": false,
     "name": "#%%\n"
    }
   },
   "outputs": [],
   "source": [
    "peak_u_df = get_peaks(X_u_f,10)\n",
    "Y = df.filter(regex='values')\n",
    "#peak_df.head()"
   ]
  },
  {
   "cell_type": "code",
   "execution_count": 131,
   "metadata": {
    "pycharm": {
     "is_executing": false,
     "name": "#%%\n"
    }
   },
   "outputs": [],
   "source": [
    "def match_labels(df):\n",
    "    y = Y.loc[df.file_id].values\n",
    "    if (np.abs((y-df.x))<2.0).any():\n",
    "        label = 1\n",
    "    else:\n",
    "        label = 0\n",
    "    return label\n",
    "\n",
    "#labels = peak_df.apply(match_labels,axis=1)"
   ]
  },
  {
   "cell_type": "code",
   "execution_count": 132,
   "metadata": {
    "pycharm": {
     "is_executing": false,
     "name": "#%%\n"
    }
   },
   "outputs": [],
   "source": [
    "labels = peak_df.apply(match_labels,axis=1)"
   ]
  },
  {
   "cell_type": "code",
   "execution_count": 133,
   "metadata": {
    "pycharm": {
     "is_executing": false,
     "name": "#%%\n"
    }
   },
   "outputs": [
    {
     "data": {
      "text/html": [
       "<div>\n",
       "<style scoped>\n",
       "    .dataframe tbody tr th:only-of-type {\n",
       "        vertical-align: middle;\n",
       "    }\n",
       "\n",
       "    .dataframe tbody tr th {\n",
       "        vertical-align: top;\n",
       "    }\n",
       "\n",
       "    .dataframe thead th {\n",
       "        text-align: right;\n",
       "    }\n",
       "</style>\n",
       "<table border=\"1\" class=\"dataframe\">\n",
       "  <thead>\n",
       "    <tr style=\"text-align: right;\">\n",
       "      <th></th>\n",
       "      <th>file_id</th>\n",
       "      <th>x</th>\n",
       "      <th>2</th>\n",
       "      <th>3</th>\n",
       "      <th>4</th>\n",
       "      <th>5</th>\n",
       "      <th>6</th>\n",
       "      <th>7</th>\n",
       "      <th>8</th>\n",
       "      <th>9</th>\n",
       "      <th>...</th>\n",
       "      <th>12</th>\n",
       "      <th>13</th>\n",
       "      <th>14</th>\n",
       "      <th>15</th>\n",
       "      <th>16</th>\n",
       "      <th>17</th>\n",
       "      <th>18</th>\n",
       "      <th>19</th>\n",
       "      <th>20</th>\n",
       "      <th>21</th>\n",
       "    </tr>\n",
       "  </thead>\n",
       "  <tbody>\n",
       "    <tr>\n",
       "      <th>0</th>\n",
       "      <td>20190814_EFSYMB_6_geltest_LPA_3_1diluted_pfux7...</td>\n",
       "      <td>1657</td>\n",
       "      <td>0.072214</td>\n",
       "      <td>0.084023</td>\n",
       "      <td>0.080332</td>\n",
       "      <td>0.085349</td>\n",
       "      <td>0.109464</td>\n",
       "      <td>0.142351</td>\n",
       "      <td>0.188487</td>\n",
       "      <td>0.258657</td>\n",
       "      <td>...</td>\n",
       "      <td>0.506459</td>\n",
       "      <td>0.475301</td>\n",
       "      <td>0.389373</td>\n",
       "      <td>0.309256</td>\n",
       "      <td>0.251592</td>\n",
       "      <td>0.186901</td>\n",
       "      <td>0.144204</td>\n",
       "      <td>0.124257</td>\n",
       "      <td>0.103209</td>\n",
       "      <td>0.085576</td>\n",
       "    </tr>\n",
       "    <tr>\n",
       "      <th>1</th>\n",
       "      <td>20190814_EFSYMB_6_geltest_LPA_3_1diluted_pfux7...</td>\n",
       "      <td>1850</td>\n",
       "      <td>0.177055</td>\n",
       "      <td>0.294539</td>\n",
       "      <td>0.441576</td>\n",
       "      <td>0.564403</td>\n",
       "      <td>0.613771</td>\n",
       "      <td>0.594455</td>\n",
       "      <td>0.576869</td>\n",
       "      <td>0.628023</td>\n",
       "      <td>...</td>\n",
       "      <td>1.000000</td>\n",
       "      <td>0.934976</td>\n",
       "      <td>0.803789</td>\n",
       "      <td>0.676313</td>\n",
       "      <td>0.607148</td>\n",
       "      <td>0.559899</td>\n",
       "      <td>0.510077</td>\n",
       "      <td>0.473239</td>\n",
       "      <td>0.427409</td>\n",
       "      <td>0.386399</td>\n",
       "    </tr>\n",
       "    <tr>\n",
       "      <th>2</th>\n",
       "      <td>20190814_EFSYMB_6_geltest_LPA_3_1diluted_pfux7...</td>\n",
       "      <td>1928</td>\n",
       "      <td>0.017496</td>\n",
       "      <td>0.038551</td>\n",
       "      <td>0.067809</td>\n",
       "      <td>0.087296</td>\n",
       "      <td>0.101900</td>\n",
       "      <td>0.128406</td>\n",
       "      <td>0.183925</td>\n",
       "      <td>0.269334</td>\n",
       "      <td>...</td>\n",
       "      <td>0.547178</td>\n",
       "      <td>0.526926</td>\n",
       "      <td>0.459349</td>\n",
       "      <td>0.385905</td>\n",
       "      <td>0.329654</td>\n",
       "      <td>0.296976</td>\n",
       "      <td>0.265732</td>\n",
       "      <td>0.258762</td>\n",
       "      <td>0.248773</td>\n",
       "      <td>0.235170</td>\n",
       "    </tr>\n",
       "    <tr>\n",
       "      <th>3</th>\n",
       "      <td>20190814_EFSYMB_6_geltest_LPA_3_1diluted_pfux7...</td>\n",
       "      <td>1943</td>\n",
       "      <td>0.296976</td>\n",
       "      <td>0.265732</td>\n",
       "      <td>0.258762</td>\n",
       "      <td>0.248773</td>\n",
       "      <td>0.235170</td>\n",
       "      <td>0.239287</td>\n",
       "      <td>0.278478</td>\n",
       "      <td>0.347079</td>\n",
       "      <td>...</td>\n",
       "      <td>0.645148</td>\n",
       "      <td>0.641077</td>\n",
       "      <td>0.569082</td>\n",
       "      <td>0.467756</td>\n",
       "      <td>0.397629</td>\n",
       "      <td>0.339014</td>\n",
       "      <td>0.283918</td>\n",
       "      <td>0.234427</td>\n",
       "      <td>0.205282</td>\n",
       "      <td>0.190497</td>\n",
       "    </tr>\n",
       "    <tr>\n",
       "      <th>4</th>\n",
       "      <td>20190814_EFSYMB_6_geltest_LPA_3_1diluted_pfux7...</td>\n",
       "      <td>1642</td>\n",
       "      <td>0.062819</td>\n",
       "      <td>0.085935</td>\n",
       "      <td>0.097649</td>\n",
       "      <td>0.096528</td>\n",
       "      <td>0.105490</td>\n",
       "      <td>0.136676</td>\n",
       "      <td>0.185408</td>\n",
       "      <td>0.233831</td>\n",
       "      <td>...</td>\n",
       "      <td>0.562444</td>\n",
       "      <td>0.545554</td>\n",
       "      <td>0.459734</td>\n",
       "      <td>0.373628</td>\n",
       "      <td>0.294097</td>\n",
       "      <td>0.220443</td>\n",
       "      <td>0.160111</td>\n",
       "      <td>0.117794</td>\n",
       "      <td>0.098581</td>\n",
       "      <td>0.090342</td>\n",
       "    </tr>\n",
       "    <tr>\n",
       "      <th>5</th>\n",
       "      <td>20190814_EFSYMB_6_geltest_LPA_3_1diluted_pfux7...</td>\n",
       "      <td>1854</td>\n",
       "      <td>0.033085</td>\n",
       "      <td>0.037353</td>\n",
       "      <td>0.047019</td>\n",
       "      <td>0.061832</td>\n",
       "      <td>0.090728</td>\n",
       "      <td>0.152683</td>\n",
       "      <td>0.248348</td>\n",
       "      <td>0.388573</td>\n",
       "      <td>...</td>\n",
       "      <td>0.649488</td>\n",
       "      <td>0.566369</td>\n",
       "      <td>0.481582</td>\n",
       "      <td>0.467623</td>\n",
       "      <td>0.504268</td>\n",
       "      <td>0.604883</td>\n",
       "      <td>0.766765</td>\n",
       "      <td>0.943531</td>\n",
       "      <td>1.000000</td>\n",
       "      <td>0.904312</td>\n",
       "    </tr>\n",
       "    <tr>\n",
       "      <th>6</th>\n",
       "      <td>20190814_EFSYMB_6_geltest_LPA_3_1diluted_pfux7...</td>\n",
       "      <td>1862</td>\n",
       "      <td>0.534770</td>\n",
       "      <td>0.633554</td>\n",
       "      <td>0.649488</td>\n",
       "      <td>0.566369</td>\n",
       "      <td>0.481582</td>\n",
       "      <td>0.467623</td>\n",
       "      <td>0.504268</td>\n",
       "      <td>0.604883</td>\n",
       "      <td>...</td>\n",
       "      <td>1.000000</td>\n",
       "      <td>0.904312</td>\n",
       "      <td>0.764997</td>\n",
       "      <td>0.637904</td>\n",
       "      <td>0.538464</td>\n",
       "      <td>0.470195</td>\n",
       "      <td>0.425606</td>\n",
       "      <td>0.375990</td>\n",
       "      <td>0.336869</td>\n",
       "      <td>0.301442</td>\n",
       "    </tr>\n",
       "    <tr>\n",
       "      <th>7</th>\n",
       "      <td>20190814_EFSYMB_6_geltest_LPA_3_1diluted_pfux7...</td>\n",
       "      <td>1946</td>\n",
       "      <td>0.027092</td>\n",
       "      <td>0.040734</td>\n",
       "      <td>0.068094</td>\n",
       "      <td>0.096350</td>\n",
       "      <td>0.120600</td>\n",
       "      <td>0.178432</td>\n",
       "      <td>0.260444</td>\n",
       "      <td>0.363169</td>\n",
       "      <td>...</td>\n",
       "      <td>0.649923</td>\n",
       "      <td>0.579325</td>\n",
       "      <td>0.477944</td>\n",
       "      <td>0.398253</td>\n",
       "      <td>0.333827</td>\n",
       "      <td>0.292508</td>\n",
       "      <td>0.266868</td>\n",
       "      <td>0.252814</td>\n",
       "      <td>0.253292</td>\n",
       "      <td>0.285651</td>\n",
       "    </tr>\n",
       "    <tr>\n",
       "      <th>8</th>\n",
       "      <td>20190814_EFSYMB_6_geltest_LPA_3_1diluted_pfux7...</td>\n",
       "      <td>1960</td>\n",
       "      <td>0.333827</td>\n",
       "      <td>0.292508</td>\n",
       "      <td>0.266868</td>\n",
       "      <td>0.252814</td>\n",
       "      <td>0.253292</td>\n",
       "      <td>0.285651</td>\n",
       "      <td>0.345851</td>\n",
       "      <td>0.435480</td>\n",
       "      <td>...</td>\n",
       "      <td>0.718756</td>\n",
       "      <td>0.684016</td>\n",
       "      <td>0.604733</td>\n",
       "      <td>0.525572</td>\n",
       "      <td>0.415296</td>\n",
       "      <td>0.343969</td>\n",
       "      <td>0.311930</td>\n",
       "      <td>0.270093</td>\n",
       "      <td>0.241243</td>\n",
       "      <td>0.226568</td>\n",
       "    </tr>\n",
       "    <tr>\n",
       "      <th>9</th>\n",
       "      <td>20190814_EFSYMB_6_geltest_LPA_3_1diluted_pfux7...</td>\n",
       "      <td>1705</td>\n",
       "      <td>0.073289</td>\n",
       "      <td>0.077529</td>\n",
       "      <td>0.082673</td>\n",
       "      <td>0.093223</td>\n",
       "      <td>0.117448</td>\n",
       "      <td>0.156928</td>\n",
       "      <td>0.206033</td>\n",
       "      <td>0.266072</td>\n",
       "      <td>...</td>\n",
       "      <td>0.453323</td>\n",
       "      <td>0.405809</td>\n",
       "      <td>0.344102</td>\n",
       "      <td>0.282872</td>\n",
       "      <td>0.214732</td>\n",
       "      <td>0.161951</td>\n",
       "      <td>0.127834</td>\n",
       "      <td>0.102682</td>\n",
       "      <td>0.082672</td>\n",
       "      <td>0.067523</td>\n",
       "    </tr>\n",
       "    <tr>\n",
       "      <th>10</th>\n",
       "      <td>20190814_EFSYMB_6_geltest_LPA_3_1diluted_pfux7...</td>\n",
       "      <td>1906</td>\n",
       "      <td>0.041867</td>\n",
       "      <td>0.058705</td>\n",
       "      <td>0.077532</td>\n",
       "      <td>0.099307</td>\n",
       "      <td>0.148417</td>\n",
       "      <td>0.227891</td>\n",
       "      <td>0.318367</td>\n",
       "      <td>0.436638</td>\n",
       "      <td>...</td>\n",
       "      <td>0.611566</td>\n",
       "      <td>0.545125</td>\n",
       "      <td>0.479180</td>\n",
       "      <td>0.476129</td>\n",
       "      <td>0.525579</td>\n",
       "      <td>0.606300</td>\n",
       "      <td>0.729374</td>\n",
       "      <td>0.889907</td>\n",
       "      <td>0.997866</td>\n",
       "      <td>1.000000</td>\n",
       "    </tr>\n",
       "    <tr>\n",
       "      <th>11</th>\n",
       "      <td>20190814_EFSYMB_6_geltest_LPA_3_1diluted_pfux7...</td>\n",
       "      <td>1915</td>\n",
       "      <td>0.602945</td>\n",
       "      <td>0.611566</td>\n",
       "      <td>0.545125</td>\n",
       "      <td>0.479180</td>\n",
       "      <td>0.476129</td>\n",
       "      <td>0.525579</td>\n",
       "      <td>0.606300</td>\n",
       "      <td>0.729374</td>\n",
       "      <td>...</td>\n",
       "      <td>1.000000</td>\n",
       "      <td>0.908636</td>\n",
       "      <td>0.780773</td>\n",
       "      <td>0.657088</td>\n",
       "      <td>0.563103</td>\n",
       "      <td>0.510232</td>\n",
       "      <td>0.458119</td>\n",
       "      <td>0.414210</td>\n",
       "      <td>0.405176</td>\n",
       "      <td>0.389247</td>\n",
       "    </tr>\n",
       "    <tr>\n",
       "      <th>12</th>\n",
       "      <td>20190814_EFSYMB_6_geltest_LPA_3_1diluted_pfux7...</td>\n",
       "      <td>2000</td>\n",
       "      <td>0.054495</td>\n",
       "      <td>0.071877</td>\n",
       "      <td>0.092558</td>\n",
       "      <td>0.122704</td>\n",
       "      <td>0.162350</td>\n",
       "      <td>0.221368</td>\n",
       "      <td>0.318730</td>\n",
       "      <td>0.430670</td>\n",
       "      <td>...</td>\n",
       "      <td>0.585889</td>\n",
       "      <td>0.521215</td>\n",
       "      <td>0.421345</td>\n",
       "      <td>0.365317</td>\n",
       "      <td>0.317661</td>\n",
       "      <td>0.277675</td>\n",
       "      <td>0.259853</td>\n",
       "      <td>0.241975</td>\n",
       "      <td>0.235018</td>\n",
       "      <td>0.248001</td>\n",
       "    </tr>\n",
       "    <tr>\n",
       "      <th>13</th>\n",
       "      <td>20190814_EFSYMB_6_geltest_LPA_3_1diluted_pfux7...</td>\n",
       "      <td>2016</td>\n",
       "      <td>0.259853</td>\n",
       "      <td>0.241975</td>\n",
       "      <td>0.235018</td>\n",
       "      <td>0.248001</td>\n",
       "      <td>0.258717</td>\n",
       "      <td>0.290994</td>\n",
       "      <td>0.355878</td>\n",
       "      <td>0.446829</td>\n",
       "      <td>...</td>\n",
       "      <td>0.673957</td>\n",
       "      <td>0.621147</td>\n",
       "      <td>0.540118</td>\n",
       "      <td>0.458918</td>\n",
       "      <td>0.387847</td>\n",
       "      <td>0.333691</td>\n",
       "      <td>0.273435</td>\n",
       "      <td>0.223069</td>\n",
       "      <td>0.206418</td>\n",
       "      <td>0.194816</td>\n",
       "    </tr>\n",
       "    <tr>\n",
       "      <th>14</th>\n",
       "      <td>20190814_EFSYMB_6_geltest_LPA_3_1diluted_pfux7...</td>\n",
       "      <td>1611</td>\n",
       "      <td>0.061437</td>\n",
       "      <td>0.064847</td>\n",
       "      <td>0.066544</td>\n",
       "      <td>0.066400</td>\n",
       "      <td>0.075586</td>\n",
       "      <td>0.102048</td>\n",
       "      <td>0.134628</td>\n",
       "      <td>0.164740</td>\n",
       "      <td>...</td>\n",
       "      <td>0.358958</td>\n",
       "      <td>0.357785</td>\n",
       "      <td>0.303404</td>\n",
       "      <td>0.249943</td>\n",
       "      <td>0.207304</td>\n",
       "      <td>0.165378</td>\n",
       "      <td>0.129378</td>\n",
       "      <td>0.097137</td>\n",
       "      <td>0.076925</td>\n",
       "      <td>0.065522</td>\n",
       "    </tr>\n",
       "    <tr>\n",
       "      <th>15</th>\n",
       "      <td>20190814_EFSYMB_6_geltest_LPA_3_1diluted_pfux7...</td>\n",
       "      <td>1826</td>\n",
       "      <td>0.041438</td>\n",
       "      <td>0.045013</td>\n",
       "      <td>0.058745</td>\n",
       "      <td>0.073200</td>\n",
       "      <td>0.098150</td>\n",
       "      <td>0.136037</td>\n",
       "      <td>0.196871</td>\n",
       "      <td>0.302955</td>\n",
       "      <td>...</td>\n",
       "      <td>0.659496</td>\n",
       "      <td>0.609923</td>\n",
       "      <td>0.508968</td>\n",
       "      <td>0.461771</td>\n",
       "      <td>0.468858</td>\n",
       "      <td>0.509615</td>\n",
       "      <td>0.587759</td>\n",
       "      <td>0.725070</td>\n",
       "      <td>0.906958</td>\n",
       "      <td>1.000000</td>\n",
       "    </tr>\n",
       "    <tr>\n",
       "      <th>16</th>\n",
       "      <td>20190814_EFSYMB_6_geltest_LPA_3_1diluted_pfux7...</td>\n",
       "      <td>1835</td>\n",
       "      <td>0.576639</td>\n",
       "      <td>0.659496</td>\n",
       "      <td>0.609923</td>\n",
       "      <td>0.508968</td>\n",
       "      <td>0.461771</td>\n",
       "      <td>0.468858</td>\n",
       "      <td>0.509615</td>\n",
       "      <td>0.587759</td>\n",
       "      <td>...</td>\n",
       "      <td>1.000000</td>\n",
       "      <td>0.927496</td>\n",
       "      <td>0.763229</td>\n",
       "      <td>0.622167</td>\n",
       "      <td>0.518430</td>\n",
       "      <td>0.453185</td>\n",
       "      <td>0.405790</td>\n",
       "      <td>0.365414</td>\n",
       "      <td>0.346874</td>\n",
       "      <td>0.335283</td>\n",
       "    </tr>\n",
       "    <tr>\n",
       "      <th>17</th>\n",
       "      <td>20190814_EFSYMB_6_geltest_LPA_3_1diluted_pfux7...</td>\n",
       "      <td>1924</td>\n",
       "      <td>0.036822</td>\n",
       "      <td>0.045826</td>\n",
       "      <td>0.056019</td>\n",
       "      <td>0.069972</td>\n",
       "      <td>0.101352</td>\n",
       "      <td>0.136702</td>\n",
       "      <td>0.191033</td>\n",
       "      <td>0.264253</td>\n",
       "      <td>...</td>\n",
       "      <td>0.606571</td>\n",
       "      <td>0.595622</td>\n",
       "      <td>0.521063</td>\n",
       "      <td>0.448569</td>\n",
       "      <td>0.380661</td>\n",
       "      <td>0.320413</td>\n",
       "      <td>0.279798</td>\n",
       "      <td>0.242644</td>\n",
       "      <td>0.222311</td>\n",
       "      <td>0.237363</td>\n",
       "    </tr>\n",
       "    <tr>\n",
       "      <th>18</th>\n",
       "      <td>20190814_EFSYMB_6_geltest_LPA_3_1diluted_pfux7...</td>\n",
       "      <td>1939</td>\n",
       "      <td>0.320413</td>\n",
       "      <td>0.279798</td>\n",
       "      <td>0.242644</td>\n",
       "      <td>0.222311</td>\n",
       "      <td>0.237363</td>\n",
       "      <td>0.261322</td>\n",
       "      <td>0.302770</td>\n",
       "      <td>0.370371</td>\n",
       "      <td>...</td>\n",
       "      <td>0.671122</td>\n",
       "      <td>0.653718</td>\n",
       "      <td>0.585546</td>\n",
       "      <td>0.503405</td>\n",
       "      <td>0.423424</td>\n",
       "      <td>0.340644</td>\n",
       "      <td>0.289190</td>\n",
       "      <td>0.265324</td>\n",
       "      <td>0.226348</td>\n",
       "      <td>0.205439</td>\n",
       "    </tr>\n",
       "    <tr>\n",
       "      <th>19</th>\n",
       "      <td>20190814_EFSYMB_6_geltest_LPA_3_1diluted_pfux7...</td>\n",
       "      <td>1640</td>\n",
       "      <td>0.058412</td>\n",
       "      <td>0.075751</td>\n",
       "      <td>0.081385</td>\n",
       "      <td>0.082851</td>\n",
       "      <td>0.096236</td>\n",
       "      <td>0.124225</td>\n",
       "      <td>0.169250</td>\n",
       "      <td>0.224824</td>\n",
       "      <td>...</td>\n",
       "      <td>0.490925</td>\n",
       "      <td>0.473055</td>\n",
       "      <td>0.405533</td>\n",
       "      <td>0.327760</td>\n",
       "      <td>0.262263</td>\n",
       "      <td>0.194880</td>\n",
       "      <td>0.136290</td>\n",
       "      <td>0.100928</td>\n",
       "      <td>0.077746</td>\n",
       "      <td>0.067508</td>\n",
       "    </tr>\n",
       "  </tbody>\n",
       "</table>\n",
       "<p>20 rows × 22 columns</p>\n",
       "</div>"
      ],
      "text/plain": [
       "                                              file_id     x         2  \\\n",
       "0   20190814_EFSYMB_6_geltest_LPA_3_1diluted_pfux7...  1657  0.072214   \n",
       "1   20190814_EFSYMB_6_geltest_LPA_3_1diluted_pfux7...  1850  0.177055   \n",
       "2   20190814_EFSYMB_6_geltest_LPA_3_1diluted_pfux7...  1928  0.017496   \n",
       "3   20190814_EFSYMB_6_geltest_LPA_3_1diluted_pfux7...  1943  0.296976   \n",
       "4   20190814_EFSYMB_6_geltest_LPA_3_1diluted_pfux7...  1642  0.062819   \n",
       "5   20190814_EFSYMB_6_geltest_LPA_3_1diluted_pfux7...  1854  0.033085   \n",
       "6   20190814_EFSYMB_6_geltest_LPA_3_1diluted_pfux7...  1862  0.534770   \n",
       "7   20190814_EFSYMB_6_geltest_LPA_3_1diluted_pfux7...  1946  0.027092   \n",
       "8   20190814_EFSYMB_6_geltest_LPA_3_1diluted_pfux7...  1960  0.333827   \n",
       "9   20190814_EFSYMB_6_geltest_LPA_3_1diluted_pfux7...  1705  0.073289   \n",
       "10  20190814_EFSYMB_6_geltest_LPA_3_1diluted_pfux7...  1906  0.041867   \n",
       "11  20190814_EFSYMB_6_geltest_LPA_3_1diluted_pfux7...  1915  0.602945   \n",
       "12  20190814_EFSYMB_6_geltest_LPA_3_1diluted_pfux7...  2000  0.054495   \n",
       "13  20190814_EFSYMB_6_geltest_LPA_3_1diluted_pfux7...  2016  0.259853   \n",
       "14  20190814_EFSYMB_6_geltest_LPA_3_1diluted_pfux7...  1611  0.061437   \n",
       "15  20190814_EFSYMB_6_geltest_LPA_3_1diluted_pfux7...  1826  0.041438   \n",
       "16  20190814_EFSYMB_6_geltest_LPA_3_1diluted_pfux7...  1835  0.576639   \n",
       "17  20190814_EFSYMB_6_geltest_LPA_3_1diluted_pfux7...  1924  0.036822   \n",
       "18  20190814_EFSYMB_6_geltest_LPA_3_1diluted_pfux7...  1939  0.320413   \n",
       "19  20190814_EFSYMB_6_geltest_LPA_3_1diluted_pfux7...  1640  0.058412   \n",
       "\n",
       "           3         4         5         6         7         8         9  ...  \\\n",
       "0   0.084023  0.080332  0.085349  0.109464  0.142351  0.188487  0.258657  ...   \n",
       "1   0.294539  0.441576  0.564403  0.613771  0.594455  0.576869  0.628023  ...   \n",
       "2   0.038551  0.067809  0.087296  0.101900  0.128406  0.183925  0.269334  ...   \n",
       "3   0.265732  0.258762  0.248773  0.235170  0.239287  0.278478  0.347079  ...   \n",
       "4   0.085935  0.097649  0.096528  0.105490  0.136676  0.185408  0.233831  ...   \n",
       "5   0.037353  0.047019  0.061832  0.090728  0.152683  0.248348  0.388573  ...   \n",
       "6   0.633554  0.649488  0.566369  0.481582  0.467623  0.504268  0.604883  ...   \n",
       "7   0.040734  0.068094  0.096350  0.120600  0.178432  0.260444  0.363169  ...   \n",
       "8   0.292508  0.266868  0.252814  0.253292  0.285651  0.345851  0.435480  ...   \n",
       "9   0.077529  0.082673  0.093223  0.117448  0.156928  0.206033  0.266072  ...   \n",
       "10  0.058705  0.077532  0.099307  0.148417  0.227891  0.318367  0.436638  ...   \n",
       "11  0.611566  0.545125  0.479180  0.476129  0.525579  0.606300  0.729374  ...   \n",
       "12  0.071877  0.092558  0.122704  0.162350  0.221368  0.318730  0.430670  ...   \n",
       "13  0.241975  0.235018  0.248001  0.258717  0.290994  0.355878  0.446829  ...   \n",
       "14  0.064847  0.066544  0.066400  0.075586  0.102048  0.134628  0.164740  ...   \n",
       "15  0.045013  0.058745  0.073200  0.098150  0.136037  0.196871  0.302955  ...   \n",
       "16  0.659496  0.609923  0.508968  0.461771  0.468858  0.509615  0.587759  ...   \n",
       "17  0.045826  0.056019  0.069972  0.101352  0.136702  0.191033  0.264253  ...   \n",
       "18  0.279798  0.242644  0.222311  0.237363  0.261322  0.302770  0.370371  ...   \n",
       "19  0.075751  0.081385  0.082851  0.096236  0.124225  0.169250  0.224824  ...   \n",
       "\n",
       "          12        13        14        15        16        17        18  \\\n",
       "0   0.506459  0.475301  0.389373  0.309256  0.251592  0.186901  0.144204   \n",
       "1   1.000000  0.934976  0.803789  0.676313  0.607148  0.559899  0.510077   \n",
       "2   0.547178  0.526926  0.459349  0.385905  0.329654  0.296976  0.265732   \n",
       "3   0.645148  0.641077  0.569082  0.467756  0.397629  0.339014  0.283918   \n",
       "4   0.562444  0.545554  0.459734  0.373628  0.294097  0.220443  0.160111   \n",
       "5   0.649488  0.566369  0.481582  0.467623  0.504268  0.604883  0.766765   \n",
       "6   1.000000  0.904312  0.764997  0.637904  0.538464  0.470195  0.425606   \n",
       "7   0.649923  0.579325  0.477944  0.398253  0.333827  0.292508  0.266868   \n",
       "8   0.718756  0.684016  0.604733  0.525572  0.415296  0.343969  0.311930   \n",
       "9   0.453323  0.405809  0.344102  0.282872  0.214732  0.161951  0.127834   \n",
       "10  0.611566  0.545125  0.479180  0.476129  0.525579  0.606300  0.729374   \n",
       "11  1.000000  0.908636  0.780773  0.657088  0.563103  0.510232  0.458119   \n",
       "12  0.585889  0.521215  0.421345  0.365317  0.317661  0.277675  0.259853   \n",
       "13  0.673957  0.621147  0.540118  0.458918  0.387847  0.333691  0.273435   \n",
       "14  0.358958  0.357785  0.303404  0.249943  0.207304  0.165378  0.129378   \n",
       "15  0.659496  0.609923  0.508968  0.461771  0.468858  0.509615  0.587759   \n",
       "16  1.000000  0.927496  0.763229  0.622167  0.518430  0.453185  0.405790   \n",
       "17  0.606571  0.595622  0.521063  0.448569  0.380661  0.320413  0.279798   \n",
       "18  0.671122  0.653718  0.585546  0.503405  0.423424  0.340644  0.289190   \n",
       "19  0.490925  0.473055  0.405533  0.327760  0.262263  0.194880  0.136290   \n",
       "\n",
       "          19        20        21  \n",
       "0   0.124257  0.103209  0.085576  \n",
       "1   0.473239  0.427409  0.386399  \n",
       "2   0.258762  0.248773  0.235170  \n",
       "3   0.234427  0.205282  0.190497  \n",
       "4   0.117794  0.098581  0.090342  \n",
       "5   0.943531  1.000000  0.904312  \n",
       "6   0.375990  0.336869  0.301442  \n",
       "7   0.252814  0.253292  0.285651  \n",
       "8   0.270093  0.241243  0.226568  \n",
       "9   0.102682  0.082672  0.067523  \n",
       "10  0.889907  0.997866  1.000000  \n",
       "11  0.414210  0.405176  0.389247  \n",
       "12  0.241975  0.235018  0.248001  \n",
       "13  0.223069  0.206418  0.194816  \n",
       "14  0.097137  0.076925  0.065522  \n",
       "15  0.725070  0.906958  1.000000  \n",
       "16  0.365414  0.346874  0.335283  \n",
       "17  0.242644  0.222311  0.237363  \n",
       "18  0.265324  0.226348  0.205439  \n",
       "19  0.100928  0.077746  0.067508  \n",
       "\n",
       "[20 rows x 22 columns]"
      ]
     },
     "execution_count": 133,
     "metadata": {},
     "output_type": "execute_result"
    }
   ],
   "source": [
    "peak_df.head(20)\n"
   ]
  },
  {
   "cell_type": "code",
   "execution_count": 134,
   "metadata": {
    "pycharm": {
     "is_executing": false,
     "name": "#%%\n"
    }
   },
   "outputs": [
    {
     "data": {
      "text/plain": [
       "<matplotlib.axes._subplots.AxesSubplot at 0x1a22aeddd0>"
      ]
     },
     "execution_count": 134,
     "metadata": {},
     "output_type": "execute_result"
    },
    {
     "data": {
      "image/png": "[encoded data removed]",
      "text/plain": [
       "<Figure size 432x288 with 1 Axes>"
      ]
     },
     "metadata": {
      "needs_background": "light"
     },
     "output_type": "display_data"
    }
   ],
   "source": [
    "labels.hist()\n",
    "\n"
   ]
  },
  {
   "cell_type": "code",
   "execution_count": 66,
   "metadata": {
    "pycharm": {
     "is_executing": false,
     "name": "#%%\n"
    }
   },
   "outputs": [
    {
     "data": {
      "application/vnd.plotly.v1+json": {
       "config": {
        "plotlyServerURL": "https://plot.ly"
       },
       "data": [
        {
         "mode": "lines+markers",
         "name": "Original Plot",
         "type": "scatter",
         "y": [
          null,
          null,
          null,
          null,
          null,
          0,
          0,
          0.010635733805892583,
          0.0015105909731880477,
          0.009149097219095407,
          0.0182742400517999,
          0,
          0,
          0,
          0.04434782294384529,
          0.07649799028062977,
          0.06282738630756632,
          0.06584514619874372,
          0.06284107452836105,
          0.0826977687125214,
          0.08424258023769625,
          0.07202097024424456,
          0.07044536022228151,
          0.061316795334378275,
          0.07962525593816502,
          0.0781351972961691,
          0.07658696371579554,
          0.0689963662426698,
          0.09193583936678254,
          0.11026825435696011,
          0.08739722233682103,
          0.08893518975159866,
          0.11641327990567285,
          0.1057262152717999,
          0.08120428801532681,
          0.056682360758853634,
          0.04598502995938467,
          0.0688218414275369,
          0.044354667054242694,
          0.010813680676224229,
          0.06579723742596207,
          0.09338825540159294,
          0.07971765142852955,
          0.08734246945364214,
          0.09494333309236391,
          0.07055828804383808,
          0.0888804368684196,
          0.10871317666618915,
          0.07814546346176517,
          0.05205819234892501,
          0.030680641025980594,
          0.061179913126430924,
          0.058110822407273215,
          0.021504167365295788,
          0.05053733521014094,
          0.09028494413044852,
          0.07347680833425371,
          0.03223571871675155,
          0.0520924129009119,
          0.09178869099323912,
          0.06124493217520588,
          0.02605305056085331,
          0.03211594678479759,
          0.03509264201359077,
          0.04734847255902926,
          0.048872751753012075,
          0.03509948612398804,
          0.022843655578549595,
          0.02132279843976544,
          0.03664087559396428,
          0.05651810210931675,
          0.048913816415396286,
          0.044395731716626904,
          0.08100580881380312,
          0.0611936013472256,
          0.045892634469020185,
          0.055031465522519446,
          0.058127932683266596,
          0.0672736078471633,
          0.055082796350499764,
          0.05965905598764677,
          0.06880130909634477,
          0.05356878332211305,
          0.06426953617678063,
          0.08266354816053455,
          0.09949221628792143,
          0.09179553510363644,
          0.04903016629215155,
          0.061145692574443994,
          0.04590290063461625,
          0.047485354766976656,
          0.07648430205983496,
          0.06275552314839389,
          0.04293647157141913,
          0.07499424341783908,
          0.08424942434809365,
          0.09188793059400097,
          0.08260879527735557,
          0.024535615477267902,
          0.024463752318095503,
          0.05042782944378299,
          0.047430601883797725,
          0.047444290104592446,
          0.05207530262491843,
          0.05819637378724034,
          0.053664600867676236,
          0.07051037927105647,
          0.09351829349914294,
          0.11797520170684113,
          0.10118075413144108,
          0.08130694967128736,
          0.08581134614926197,
          0.049081497120131864,
          0.018541160357297325,
          0.0612620424511993,
          0.06738311361352121,
          0.029282977874349154,
          0.0643619316671452,
          0.06276578931398999,
          0.03374630968993956,
          0.024569836029254707,
          0.04902674423695289,
          0.06437904194313862,
          0.07355209354862477,
          0.061316795334378275,
          0.046002140235378096,
          0.041377971825449555,
          0.03840812070705373,
          0.08121455418092274,
          0.09806033258430323,
          0.07360684643180367,
          0.05212663345289861,
          0.03529112121511441,
          0.042943315681816537,
          0.06584856825394238,
          0.053661178812477534,
          0.0460158284561729,
          0.05516834773046692,
          0.05666182842766151,
          0.03219807610956592,
          0.021480212978904914,
          0.035181615448756545,
          0.024549303698062623,
          0.03832599138228523,
          0.06127230861679532,
          0.061330483555172996,
          0.06433797728075437,
          0.04293647157141913,
          0.033855815456297504,
          0.08875382082606827,
          0.11023745586017192,
          0.0934532744503679,
          0.08111189252496233,
          0.04440257582702431,
          0.03677775780191172,
          0.0795054840062111,
          0.06580065948116084,
          0.042874874577842795,
          0.05198632918975265,
          0.050472316161365945,
          0.04738953722141347,
          0.03674695930512357,
          0.06277605547958605,
          0.08867169150129985,
          0.05045178383017382,
          0.0014969027523933259,
          0.007604285693920468,
          0.04123424550710476,
          0.04283038786025988,
          0.03981262796908249,
          0.05506226401930759,
          0.045920010910609765,
          0.04130268661107846,
          0.03522610216633942,
          0.05501777730172481,
          0.030598511701212087,
          0.021521277641289166,
          0.08566761983091721,
          0.08732193712245001,
          0.07978951458770187,
          0.12556579917996688,
          0.108812416266951,
          0.08590374163962654,
          0.10570910499580657,
          0.10419509196741969,
          0.09034654112402472,
          0.04750588709816878,
          0.032150167336784434,
          0.039778407417095644,
          0.05053391315494219,
          0.07037349706310916,
          0.05077345701885013,
          0.14697757105489814,
          0.14841972092411243,
          0.014026497713726648,
          0.032057771846419905,
          0.03217412172317517,
          0.06587252264033312,
          0.10557222278785909,
          0.06285818480435451,
          0.05059208809331987,
          0.07350760683104182,
          0.08584214464605007,
          0.1133544553521112,
          0.1072402283001867,
          0.07817968401375193,
          0.06894845746988827,
          0.06892108102829865,
          0.06589989908192273,
          0.08122139829132023,
          0.10415060524983691,
          0.09503915063792705,
          0.09651894311432699,
          0.08425626845849106,
          0.06443379482631768,
          0.08578739176287109,
          0.06865416072280132,
          0.031989330742446254,
          0.04260111016194801,
          0.042649018934729575,
          0.05331897329260901,
          0.042679817431517726,
          0.056432550729349544,
          0.06865073866760261,
          0.05344558933496038,
          0.07330570557431938,
          0.08861009450772354,
          0.08096816620661754,
          0.06418056274161481,
          0.07940966646064787,
          0.07481629654750747,
          0.054976712639340425,
          0.06871575771637778,
          0.08400303637378835,
          0.0748334068235009,
          0.05804580335849818,
          0.07473416722273907,
          0.03961072671236006,
          0.028961304685672755,
          0.08392090704901993,
          0.07782721232828747,
          0.030441097162072613,
          0.024285805447763945,
          0.05178784998822897,
          0.041456679095019315,
          0.04135401743905877,
          0.03364364803397897,
          0.013766421518626453,
          0.007672726797894077,
          0.03512686256557753,
          0.021459680647712833,
          0.03060535581160945,
          0.035133706675974846,
          0.0015277012491814283,
          0,
          0,
          0.018349525266170914,
          0.03988106907305614,
          0.08579423587326855,
          0.101095202751474,
          0.06600598279308185,
          0.07204834668583404,
          0.0766793592061599,
          0.09190161881479574,
          0.06285818480435447,
          0.03991871168024178,
          0.058234016394425756,
          0.07354867149342603,
          0.07207914518262219,
          0.08278332009248847,
          0.0888462163164327,
          0.05671658131084044,
          0.029255601432759668,
          0.07816599579295724,
          0.11636537113289115,
          0.07062330709261307,
          0.0720038599682511,
          0.052119789342501256,
          0.0399323999010365,
          0.07503873013542191,
          0.07359658026620751,
          0.07663487248857703,
          0.07047958077426845,
          0.04757090614694382,
          0.05664814020686674,
          0.039870802907460035,
          0.042912517185028344,
          0.053650912646881474,
          0.07057197626463271,
          0.11177542327494928,
          0.07520641084015744,
          0.07666224893016656,
          0.08116322335294252,
          0.04300149062019417,
          0.05214032167369347,
          0.07810097674418216,
          0.06434482139115173,
          0.035301387380710564,
          0.04137112771505202,
          0.05208899084571302,
          0.056723425421237754,
          0.06892792513869611,
          0.05669604897964831,
          0.039884491128254845,
          0.0490609647889397,
          0.05215058783928949,
          0.05505541990891023,
          0.061118316132854546,
          0.02602567411926369,
          0.039751030975506245,
          0.06419082890721091,
          0.04899936779536332,
          0.06260495271965182,
          0.013646649586672572,
          0,
          0.036640875593964235,
          0.07190804242268795,
          0.09342932006397715,
          0.11790676060286738,
          0.11180964382693631,
          0.09342932006397725,
          0.07818995017934817,
          0.11335445535211115,
          0.14097284976933153,
          0.15930184270431033,
          0.13026183074906786,
          0.10579123432057494,
          0.12256857161998147,
          0.13485862271740703,
          0.14860793396004016,
          0.13637947985619114,
          0.11951316912161862,
          0.10417798169142639,
          0.09500493008594024,
          0.10731893556975645,
          0.15783231639350664,
          0.1900030160614831,
          0.1792988411516167,
          0.14258952445367878,
          0.13341305079299393,
          0.16552557552259278,
          0.18848215892269898,
          0.17477049028725142,
          0.1686391529593333,
          0.17320856848608296,
          0.17322910081727508,
          0.17779509428882612,
          0.17018054242930963,
          0.17629134742603553,
          0.1839743403895257,
          0.19776813834974177,
          0.20989393079763025,
          0.15337240663311486,
          0.14263743322646036,
          0.18075810129682462,
          0.15946610135384726,
          0.16412791237096142,
          0.22060837187309262,
          0.19620279449337472,
          0.15644491940747132,
          0.16400129632861013,
          0.16709091937895984,
          0.174763646176854,
          0.1870023664462992,
          0.15041624373551385,
          0.1273672648450432,
          0.11954054556320806,
          0.09970096165504118,
          0.11036064984732451,
          0.11489584482208731,
          0.08285518325166087,
          0.07971422937333081,
          0.07812150907537438,
          0.03536982848468417,
          0.04754352970535429,
          0.06893476924909342,
          0.05826139283601529,
          0.04609453572574266,
          0.08128299528489648,
          0.11642012401607012,
          0.08128641734009527,
          0.047639347250917514,
          0.06595807402030028,
          0.08119402184973075,
          0.06271445848600984,
          0.032204920219963365,
          0.047533263539758355,
          0.10099596315071216,
          0.08272856720930959,
          0.058322989829591665,
          0.0933950995119904,
          0.08887359275802231,
          0.08113242485615446,
          0.03983658235547336,
          0.026090693168038862,
          0.06881499731713962,
          0.05975829558840866,
          0.06596491813069777,
          0.1179375590996557,
          0.12558633151115903,
          0.07820363840014288,
          0.05977540586440217,
          0.06428664645277414,
          0.050629730700505464,
          0.0873458915088408,
          0.12399361121320253,
          0.07974160581492033,
          0.06594096374430694,
          0.08727060629446978,
          0.07506268452181282,
          0.059778827919600784,
          0.0688663281451199,
          0.049033588347350256,
          0.05205477029372643,
          0.05658312115809183,
          0.029084498672825424,
          0.02452192725647318,
          0.06119360134722565,
          0.06892450308349748,
          0.07355209354862473,
          0.08574632710048706,
          0.06894845746988831,
          0.05975829558840883,
          0.055202568282453644,
          0.09038760578640885,
          0.1058186107621643,
          0.1393561750849841,
          0.09035338523442209,
          0.012358492201399169,
          0.022860765854542973,
          0.015290700712609441,
          0.02296342751050352,
          0.059665900098044136,
          0.0567028930900458,
          0.061368126162358594,
          0.10111573508266604,
          0.10871317666618928,
          0.05063315275570426,
          0.030632732253198982,
          0.026025674119263868,
          0.03521925805594214,
          0.05209583495611051,
          0.07514139179138254,
          0.11639959168487808,
          0.09811508546748225,
          0.0782139045657389,
          0.07818995017934807,
          0.08735957972963553,
          0.08884963837163158,
          0.06292662590832816,
          0.08274567748530318,
          0.09041840428319725,
          0.08582161231485799,
          0.07203465846503933,
          0.05984042491317716,
          0.0857634373764804,
          0.0766314504333785,
          0.06594780785470435,
          0.07961156771737035,
          0.05211636728730273,
          0.03988106907305614,
          0.061183335181629626,
          0.03525347860792899,
          0.0321672776127779,
          0.04442653021341523,
          0.06434139933595312,
          0.07650141233582851,
          0.07652536672221917,
          0.07493949053465998,
          0.04899936779536332,
          0.06419767301760823,
          0.055072530184903656,
          0.05821348406323363,
          0.10549351551828932,
          0.0674002238895146,
          0.06437219783274117,
          0.11481713755251759,
          0.13169371445268604,
          0.11041540273050349,
          0.08737326795043024,
          0.029105031004017554,
          0,
          0.041152116182336294,
          0.04275168059069012,
          0.03373604352434341,
          0.09938955463196093,
          0.09186739826280889,
          0.07809071057858614,
          0.0735178729966378,
          0.09193241731158379,
          0.13313928637709915,
          0.0965531636663138,
          0.09040129400720374,
          0.10873028694218254,
          0.11330996863452829,
          0.09331981429761912,
          0.030619044032404258,
          0.021459680647712743,
          0.08718163285930387,
          0.11024087791537063,
          0.10882610448774567,
          0.1361946888754619,
          0.07958761333097943,
          0.015365985926980543,
          0.04581050514425168,
          0.06120044545762306,
          0.08111189252496225,
          0.08870591205328669,
          0.049033588347350165,
          0.06281369808677152,
          0.11627297564252671,
          0.09805691052910448,
          0.09654631955591648,
          0.12243168941203425,
          0.08577712559727511,
          0.06430033467356887,
          0.061262042451199344,
          0.09032943084803134,
          0.11176173505415474,
          0.10269134510462913,
          0.12401414354439456,
          0.10419166991222102,
          0.09952643683990832,
          0.08274567748530291,
          0.09797135914913728,
          0.09180237921403389,
          0.050657107142094905,
          0.10249628795830407,
          0.09800557970112413,
          0.08732535917764868,
          0.09793371654195172,
          0.05512043895768514,
          0.06729071812315673,
          0.07180195871152861,
          0.027573907699637336,
          0.05651810210931658,
          0.06418056274161472,
          0.045896056524218715,
          0.059662478042845433,
          0.0856710418861157,
          0.08881199576444576,
          0.10107124836508317,
          0.11483424782851093,
          0.10877135160456679,
          0.11634826085689773,
          0.0949672874787546,
          0.09032943084803118,
          0.08723638574248277,
          0.07505926246661394,
          0.09803980025311097,
          0.13930484425700393,
          0.12407574053797077,
          0.1041642934706315,
          0.06889712664190796,
          0.06427980234237665,
          0.05666867253805878,
          0.07352813916223382,
          0.10555511251186571,
          0.06439957427433061,
          0.07362053465259834,
          0.13932195453299717,
          0.13479360366863194,
          0.09354909199593105,
          0.09956065739189508,
          0.09645392406555187,
          0.06740022388951468,
          0.058124510628067894,
          0.03836021193427203,
          0.09026098974405748,
          0.09189135264919962,
          0.08580792409406326,
          0.0964162814583664,
          0.06434139933595294,
          0.05668920486925091,
          0.08276620981649496,
          0.13773265629023954,
          0.09809455313628995,
          0.07972791759412562,
          0.10411638469784992,
          0.09806717669470041,
          0.10111573508266596,
          0.1042430007402013,
          0.13330012297143737,
          0.14402483021249568,
          0.11040171450970884,
          0.08902074113156573,
          0.10724365035538554,
          0.06592727552351213,
          0.01847271925332367,
          0.07500793163863376,
          0.1210169159844093,
          0.14397007732931671,
          0.11498139620205461,
          0.1087781957149642,
          0.09642654762396251,
          0.04448812720699143,
          0.05820663995283649,
          0.09643339173435991,
          0.09806717669470051,
          0.10728813707296832,
          0.13020023375549156,
          0.11957476611519499,
          0.1271345650915325,
          0.10270503332542394,
          0.10114995563465298,
          0.11334418918651513,
          0.10273925387741079,
          0.13022076608668368,
          0.133248792143457,
          0.09351487144394437,
          0.08427680078968322,
          0.09191530703559045,
          0.10121497468342788,
          0.1531841935971872,
          0.15631145925472245,
          0.13643765479456874,
          0.12720985030590362,
          0.10114653357945419,
          0.06759185898064105,
          0.09969411754464387,
          0.1423944673073538,
          0.07682650757970358,
          0.08896941030358546,
          0.11933864430648576,
          0.08884963837163158,
          0.08719189902489999,
          0.0596522118772495,
          0.04290909512982964,
          0.09794740476274653,
          0.13320430542587414,
          0.13176899966705716,
          0.1379003369949751,
          0.14850869435927838,
          0.10412665086344612,
          0.058391430933565365,
          0.14539169486733908,
          0.1562019534883644,
          0.1211606423027541,
          0.12711403276034047,
          0.11187466287571139,
          0.09653605339032037,
          0.08430759928647129,
          0.0966147606598901,
          0.14702205777248104,
          0.13174162322546754,
          0.06603335923467138,
          0.05667551664845619,
          0.07650483439102714,
          0.06883895170353029,
          0.03685988712668022,
          0.09039444989680634,
          0.15152645425045577,
          0.10883979270854066,
          0.08740406644721847,
          0.10879872804615623,
          0.13336856407541106,
          0.16860151035214793,
          0.1869852561703056,
          0.174763646176854,
          0.15628408281313302,
          0.10274609798780811,
          0.09046289100078003,
          0.11637563729848725,
          0.1027426759326094,
          0.12867253250631014,
          0.12411338314515659,
          0.10885348092933529,
          0.12112642175076725,
          0.15938739408427752,
          0.1777198090744552,
          0.1395922968936936,
          0.15019038809240065,
          0.14564492695204173,
          0.1519131464879072,
          0.2268013061945871,
          0.23452536382046127,
          0.19782289123292074,
          0.15792471188387108,
          0.20687617090645283,
          0.26040388956618166,
          0.23774502496836114,
          0.29880516616283803,
          0.3003123350808274,
          0.2299935909008972,
          0.18708791782626605,
          0.19467509324419335,
          0.19321583309898563,
          0.21622716938227055,
          0.26048944094614895,
          0.21928599393583212,
          0.1947709107897565,
          0.20399187116802414,
          0.252953596356202,
          0.2774584133366818,
          0.2561253487313202,
          0.256139036952115,
          0.28362739327178516,
          0.27901691308265125,
          0.23946778336386748,
          0.26997389957471535,
          0.3464582016345503,
          0.3098960333101559,
          0.2792393466705661,
          0.26703142489790893,
          0.3054087471081748,
          0.3972419248189966,
          0.43559871469807004,
          0.4175058435718003,
          0.4864440348760926,
          0.5907725869962612,
          0.7213218703820187,
          0.9157608418175027,
          1,
          0.8834258834999893,
          0.5892517298574769,
          0.31642090698592235,
          0.19491121505290251,
          0.10437646089295008,
          0.0934532744503679,
          0.06290609357713621,
          0.07059935270622242,
          0.09955723533669639,
          0.04947503346798075,
          0.21773091624506133,
          0.4030618551238342,
          0.4278746570721957,
          0.4076791794233655,
          0.20529713882929104,
          0.11632088441530801,
          0.12518937310811123,
          0.0808620824954582,
          0.06088219432414505,
          0.051599636952301124,
          0.019524754829887837,
          0.03168818988496168,
          0.037754508164104784,
          0.005741223035267612,
          0.030139956304588034,
          0.042368410408437036,
          0.021011391416684667,
          0.022367989905932025,
          0,
          0,
          0.022942895179311393,
          0.08411254214014639,
          0.08878461932285658,
          0.06746866499348829,
          0.09486462582279398,
          0.0705138013262552,
          0.08416729502332528,
          0.06586225647473705,
          0.06444063893671487,
          0.13010783826512712,
          0.12107509092278707,
          0.11489926687728584,
          0.09491253459557564,
          0.04445048459980597,
          0.042912517185028434,
          0.08875039877086956,
          0.09334034662881142,
          0.050509958768551494,
          0.021442570371719406,
          0.04577970664746371,
          0.0274849342644716,
          0.01984300596336558,
          0.03653821393800369,
          0,
          0.010659688192283499,
          0.03673669313952755,
          0.07343574367186938,
          0.06280343192117567,
          0.053698821419663215,
          0.0918845085388024,
          0.09795767092834255,
          0.04289198485383622,
          0.006196356376693096,
          0.0473655828350229,
          0.04894803696738322,
          0.032177543778373834,
          0.04594396529700037,
          0.07036665295271172,
          0.04744086804939383,
          0.018363213486965808,
          0.018291350327793412,
          0.01525305810542389,
          0.02291551873772195,
          0.0366237653179709,
          0.010673376413078134,
          0.006032097727156259,
          0.006014987451162747,
          0.0029732731735945253,
          0.009019059121545419,
          0,
          0.030543758818033156,
          0.05202739385213699,
          0.06435850961194654,
          0.09182975565562333,
          0.0675576384286542,
          0.11643723429206337,
          0.13773607834543833,
          0.0491396720585095,
          0.032160433502380494,
          0.04281327758426642,
          0.041333485107866816,
          0.05202739385213699,
          0.05351060838373529,
          0.023001070117689155,
          0.04136428360465479,
          0.08563339927893024,
          0.052154009894488276,
          0.06581092564675686,
          0.058127932683266596,
          0.024549303698062623,
          0.045916588855411104,
          0.07034269856632114,
          0.04130953072147573,
          0.013879349340183367,
          0.07333308201590884,
          0.044371777330236166,
          0.013858817008991152,
          0.06106698530487445,
          0.024515083146075776,
          0.02753968714765066,
          0.050400453002193375,
          0.022936051068913988,
          0.015270168381417228,
          0.03055060292843056,
          0.039802361803486515,
          0.06275894520359271,
          0.0718669777603037,
          0.02312426410484174,
          0.07810782085457975,
          0.12097242926682653,
          0.10587336364534318,
          0.14241842169374463,
          0.10416429347063158,
          0.03998030867381816,
          0.06891765897310008,
          0.09348065089195752,
          0.11791702676846366,
          0.09041156017279985,
          0.06299506701230177,
          0.11320046286817034,
          0.09651894311432686,
          0.08742459877841034,
          0.13629392847622393,
          0.1377189680694448,
          0.04298095828900213,
          0.03266005356138841,
          0.29387301278502787,
          0.29400305088257783,
          0.09083247296223797,
          0.09645392406555205,
          0.08105371758658447,
          0.019914869122537978,
          0.021339908715758863,
          0.03661007709717609,
          0.03216385555757902,
          0.07804280180580475,
          0.10407532003546567,
          0.08574974915568559,
          0.06272814670680439,
          0.03374630968993951,
          0.07644323739745075,
          0.07038376322870522,
          0.050578399872525194,
          0.08092367948903466,
          0.007587175417926957,
          0,
          0.07039060733910263,
          0.1561164021083973,
          0.16389521261745055,
          0.14100707032131837,
          0.1453506302049549,
          0.06133390561037166,
          0.05976856175400485,
          0.12694293000040596,
          0.10866868994860623,
          0.06736942539272645,
          0.0627315687620031,
          0.07953286044780046,
          0.08261906144295163,
          0.07946099728862806,
          0.03059851170121222,
          0.04433755677824932,
          0.08880857370924733,
          0.15009799260203602,
          0.1868586401279543,
          0.1685536015793661,
          0.1440932713164692,
          0.15462634346640142,
          0.10725049446578276,
          0.08889412508921436,
          0.125411806696026,
          0.07806333413699679,
          0.045920010910609634,
          0.06581776975715445,
          0.11469736562056379,
          0.09188793059400109,
          0.09041840428319725,
          0.1391508517730631,
          0.07210994367941033,
          0.1026605466078409,
          0.1682764151082728,
          0.10416429347063158,
          0.06121413367841778,
          0.047416913663002914,
          0.06873286799237122,
          0.0503764986158028,
          0.018414544314946168,
          0.0901617501432958,
          0.09782421077559386,
          0.03666482998035498,
          0.0059807668991757245,
          0.00915936338469134,
          0.09471063333885324,
          0.09176815866204686,
          0.05670289309004572,
          0.0857463271004869,
          0.07047273666387095,
          0.036798290133103845,
          0.022977115731298414,
          0.024583524250049647,
          0.0734802303894525,
          0.07665882687496794,
          0.08277647598209124,
          0.08268065843652793,
          0.03377368613152913,
          0.024583524250049647,
          0.0628924053563414,
          0.12404836409638159,
          0.10731551351455793,
          0.07820363840014288,
          0.0567097372004433,
          0.03845602947983561,
          0.0949125345955758,
          0.08273198926450828,
          0.04447786104139559,
          0.029098186893620235,
          0.021360441046951076,
          0,
          0,
          0.08268408049172654,
          0.1897908486391645,
          0.18214207622766107,
          0.07051380132625512,
          0.03061904403240417,
          0.06419425096240944,
          0.08869906794288929,
          0.08262932760854783,
          0.07656643138460342,
          0.10410954058745261,
          0.13013179265151759,
          0.12562739617354313,
          0.13472174050945945,
          0.10721969596899435,
          0.0964847225623401,
          0.10554484634626943,
          0.0689073928075039,
          0.07204834668583396,
          0.1469809931100968,
          0.17752132987293123,
          0.09656685188710844,
          0.0720928334034169,
          0.13930484425700393,
          0.160716616131935,
          0.10414376113943946,
          0.06136128205196119,
          0.11477607289013333,
          0.13311190993550953,
          0.08122139829132027,
          0.08572237271409607,
          0.10099596315071199,
          0.0949022684299796,
          0.08716452258331045,
          0.048978835464171276,
          0.059689854484434784,
          0.1055311581254748,
          0.0995709235574911,
          0.12090741021805108,
          0.104181403746625,
          0.11800600020362931,
          0.1683448562122464,
          0.1210032277636144,
          0.07821732662093743,
          0.12087318966606442,
          0.11020665736338368,
          0.07962525593816498,
          0.07813861935136764,
          0.12716194153312196,
          0.18982506919115116,
          0.12258568189597481,
          0.07960814566217156,
          0.026046206450455908,
          0.02751231070606104,
          0.05351403043893399,
          0.047461400380585696,
          0.05976513969880597,
          0.08430759928647102,
          0.11639616962967929,
          0.09501861830673487,
          0.06739337977911719,
          0.03215701144718179,
          0.015225681663834272,
          0,
          0.10548324935269322,
          0.15890146224606388,
          0.030663530749987213,
          0.016763649078611807,
          0.07775192711391611,
          0.03803169463519845,
          0,
          0.041234245507104715,
          0.09628966541601494,
          0.08110504841456492,
          0.0673557371719319,
          0.08256773061497119,
          0.06732836073034228,
          0.06880815320674187,
          0.06267339382362543,
          0.050516802878948816,
          0.08559575667174495,
          0.07183275720831693,
          0.03061904403240417,
          0.05956323844208367,
          0.06414292013442925,
          0.03357520693000519,
          0.02290183051692705,
          0.06282738630756632,
          0.16531340810027428,
          0.18369715391843214,
          0.10420193607781687,
          0.061173069016033435,
          0.027522576871657062,
          0.051982907134553946,
          0.09325137319364543,
          0.07805649002659912,
          0.0734357436718693,
          0.07194226297467506,
          0.09190504086999435,
          0.139215870821838,
          0.09805691052910448,
          0.09041156017279976,
          0.12854591646395874,
          0.11028878668815219,
          0.10564408594703144,
          0.09645050201035325,
          0.08884279426123391,
          0.11170698217097567,
          0.0963375741887966,
          0.032868798928508115,
          0.35819045773458985,
          0.3873194431249983,
          0.10782539973916186,
          0.11170698217097567,
          0.0780530679714006,
          0.05351060838373538,
          0.042878296633041324,
          0.09491253459557554,
          0.14732662068516397,
          0.3062486152624201,
          0.24947728106840095,
          0,
          0,
          0.045892634469020276,
          0.14839234448252311,
          0.16688559606703876,
          0.1364171224633765,
          0.15617457704677506,
          0.14097627182453024,
          0.15616773293637767,
          0.13320772748107276,
          0.09816641629546234,
          0.16386783617586145,
          0.20366677592414908,
          0.1731230171061159,
          0.1378455841117961,
          0.10570568294060782,
          0.11489584482208748,
          0.1577159665167513,
          0.16855017952416756,
          0.18843425014991758,
          0.18839660754273185,
          0.15173177756237688,
          0.1517386216727741,
          0.19146569826188953,
          0.19451083459465626,
          0.15023829686518195,
          0.16088771889186934,
          0.18542333436913733,
          0.21605264456713769,
          0.2252530726142133,
          0.20997606012239864,
          0.20076194385452825,
          0.19458611980902754,
          0.17463018602410532,
          0.13794482371255812,
          0.1485702913528546,
          0.15474953745355435,
          0.17471231534887363,
          0.21449072276596923,
          0.220669968866669,
          0.211397677660421,
          0.15789391338708295,
          0.1516530702928069,
          0.1471144532628454,
          0.1730922186093276,
          0.1807136145792416,
          0.14721027080840854,
          0.18674571230639767,
          0.13793455754696202,
          0.13172793500467297,
          0.13782162972540538,
          0.09053133210475364,
          0.09026098974405765,
          0.11939681924486344,
          0.11637905935368595,
          0.10415060524983713,
          0.10413349497384344,
          0.10885348092933529,
          0.1698520251302357,
          0.11645092251285835,
          0.07832683238729547,
          0.11794440321005294,
          0.10280085087098699,
          0.12260963628236572,
          0.11488557865649138,
          0.04755037381575143,
          0,
          0.0412239793415087,
          0.06420109507280694,
          0.05052706904454501,
          0.061268886561596486,
          0.09645392406555187,
          0.10713414458902741,
          0.06596149607549924,
          0.08877093110206159,
          0.08262590555334903,
          0.044433374323812454,
          0.05041414122298818,
          0.03055402498362909,
          0.024535615477267816,
          0.08571895065889744,
          0.12547340368960214,
          0.07977924842210597,
          0.10093094410193708,
          0.04132664099746924,
          0.00919016188147966,
          0.04413907757672546,
          0,
          0.016845778403380314,
          0.08706186092735,
          0.04435466705424248,
          0.004689187458703532,
          0.07181564693232316,
          0.07032216623512857,
          0.018448764866932667,
          0.05048258232696205,
          0.08093736770982912,
          0.004535194974762628,
          0,
          0.06866442688839734,
          0.07032901034552634,
          0.06270419232041383,
          0.06728729606795811,
          0.07500450958343523,
          0.10559275511905135,
          0.11338183179370069,
          0.14996795450448602,
          0.10710676814743779,
          0.03224598488234753,
          0.07339467900948513,
          0.10392817166192217,
          0.05361669209489454,
          0.06883210759313288,
          0.09169629550287464,
          0.05359958181890138,
          0.073463120113459,
          0.11319361875777294,
          0.09800215764592568,
          0.09634099624399521,
          0.051982907134554036,
          0.02903316784484524,
          0.05805264746889567,
          0.07802226947461254,
          0.09786185338277942,
          0.06888001636591436,
          0.0687978870411462,
          0.061149114629642606,
          0.05666525048286016,
          0.10859682678943385,
          0.10860024884463254,
          0.05818268556644566,
          0.056596809378886295,
          null,
          null,
          null,
          null
         ]
        },
        {
         "marker": {
          "color": "red",
          "size": 8,
          "symbol": "cross"
         },
         "mode": "markers",
         "name": "Detected Peaks",
         "type": "scatter",
         "x": [
          32,
          108,
          193,
          274,
          357,
          426,
          477,
          490,
          501,
          560,
          583,
          614,
          636,
          682,
          712,
          725,
          752,
          799,
          834,
          850,
          871,
          887,
          903,
          930,
          943,
          961,
          990,
          1006,
          1030,
          1040,
          1052,
          1060,
          1091,
          1143,
          1168
         ],
         "y": [
          0.11641327990567285,
          0.11797520170684113,
          0.14841972092411243,
          0.11636537113289115,
          0.22060837187309262,
          0.1393561750849841,
          0.13169371445268604,
          0.13313928637709915,
          0.1361946888754619,
          0.13932195453299717,
          0.14402483021249568,
          0.15631145925472245,
          0.1562019534883644,
          0.3003123350808274,
          1,
          0.4278746570721957,
          0.13010783826512712,
          0.13773607834543833,
          0.14241842169374463,
          0.29400305088257783,
          0.16389521261745055,
          0.1868586401279543,
          0.1682764151082728,
          0.12404836409638159,
          0.1897908486391645,
          0.17752132987293123,
          0.18982506919115116,
          0.15890146224606388,
          0.18369715391843214,
          0.139215870821838,
          0.3873194431249983,
          0.3062486152624201,
          0.2252530726142133,
          0.12547340368960214,
          0.14996795450448602
         ]
        }
       ],
       "layout": {
        "template": {
         "data": {
          "bar": [
           {
            "error_x": {
             "color": "#2a3f5f"
            },
            "error_y": {
             "color": "#2a3f5f"
            },
            "marker": {
             "line": {
              "color": "#E5ECF6",
              "width": 0.5
             }
            },
            "type": "bar"
           }
          ],
          "barpolar": [
           {
            "marker": {
             "line": {
              "color": "#E5ECF6",
              "width": 0.5
             }
            },
            "type": "barpolar"
           }
          ],
          "carpet": [
           {
            "aaxis": {
             "endlinecolor": "#2a3f5f",
             "gridcolor": "white",
             "linecolor": "white",
             "minorgridcolor": "white",
             "startlinecolor": "#2a3f5f"
            },
            "baxis": {
             "endlinecolor": "#2a3f5f",
             "gridcolor": "white",
             "linecolor": "white",
             "minorgridcolor": "white",
             "startlinecolor": "#2a3f5f"
            },
            "type": "carpet"
           }
          ],
          "choropleth": [
           {
            "colorbar": {
             "outlinewidth": 0,
             "ticks": ""
            },
            "type": "choropleth"
           }
          ],
          "contour": [
           {
            "colorbar": {
             "outlinewidth": 0,
             "ticks": ""
            },
            "colorscale": [
             [
              0,
              "#0d0887"
             ],
             [
              0.1111111111111111,
              "#46039f"
             ],
             [
              0.2222222222222222,
              "#7201a8"
             ],
             [
              0.3333333333333333,
              "#9c179e"
             ],
             [
              0.4444444444444444,
              "#bd3786"
             ],
             [
              0.5555555555555556,
              "#d8576b"
             ],
             [
              0.6666666666666666,
              "#ed7953"
             ],
             [
              0.7777777777777778,
              "#fb9f3a"
             ],
             [
              0.8888888888888888,
              "#fdca26"
             ],
             [
              1,
              "#f0f921"
             ]
            ],
            "type": "contour"
           }
          ],
          "contourcarpet": [
           {
            "colorbar": {
             "outlinewidth": 0,
             "ticks": ""
            },
            "type": "contourcarpet"
           }
          ],
          "heatmap": [
           {
            "colorbar": {
             "outlinewidth": 0,
             "ticks": ""
            },
            "colorscale": [
             [
              0,
              "#0d0887"
             ],
             [
              0.1111111111111111,
              "#46039f"
             ],
             [
              0.2222222222222222,
              "#7201a8"
             ],
             [
              0.3333333333333333,
              "#9c179e"
             ],
             [
              0.4444444444444444,
              "#bd3786"
             ],
             [
              0.5555555555555556,
              "#d8576b"
             ],
             [
              0.6666666666666666,
              "#ed7953"
             ],
             [
              0.7777777777777778,
              "#fb9f3a"
             ],
             [
              0.8888888888888888,
              "#fdca26"
             ],
             [
              1,
              "#f0f921"
             ]
            ],
            "type": "heatmap"
           }
          ],
          "heatmapgl": [
           {
            "colorbar": {
             "outlinewidth": 0,
             "ticks": ""
            },
            "colorscale": [
             [
              0,
              "#0d0887"
             ],
             [
              0.1111111111111111,
              "#46039f"
             ],
             [
              0.2222222222222222,
              "#7201a8"
             ],
             [
              0.3333333333333333,
              "#9c179e"
             ],
             [
              0.4444444444444444,
              "#bd3786"
             ],
             [
              0.5555555555555556,
              "#d8576b"
             ],
             [
              0.6666666666666666,
              "#ed7953"
             ],
             [
              0.7777777777777778,
              "#fb9f3a"
             ],
             [
              0.8888888888888888,
              "#fdca26"
             ],
             [
              1,
              "#f0f921"
             ]
            ],
            "type": "heatmapgl"
           }
          ],
          "histogram": [
           {
            "marker": {
             "colorbar": {
              "outlinewidth": 0,
              "ticks": ""
             }
            },
            "type": "histogram"
           }
          ],
          "histogram2d": [
           {
            "colorbar": {
             "outlinewidth": 0,
             "ticks": ""
            },
            "colorscale": [
             [
              0,
              "#0d0887"
             ],
             [
              0.1111111111111111,
              "#46039f"
             ],
             [
              0.2222222222222222,
              "#7201a8"
             ],
             [
              0.3333333333333333,
              "#9c179e"
             ],
             [
              0.4444444444444444,
              "#bd3786"
             ],
             [
              0.5555555555555556,
              "#d8576b"
             ],
             [
              0.6666666666666666,
              "#ed7953"
             ],
             [
              0.7777777777777778,
              "#fb9f3a"
             ],
             [
              0.8888888888888888,
              "#fdca26"
             ],
             [
              1,
              "#f0f921"
             ]
            ],
            "type": "histogram2d"
           }
          ],
          "histogram2dcontour": [
           {
            "colorbar": {
             "outlinewidth": 0,
             "ticks": ""
            },
            "colorscale": [
             [
              0,
              "#0d0887"
             ],
             [
              0.1111111111111111,
              "#46039f"
             ],
             [
              0.2222222222222222,
              "#7201a8"
             ],
             [
              0.3333333333333333,
              "#9c179e"
             ],
             [
              0.4444444444444444,
              "#bd3786"
             ],
             [
              0.5555555555555556,
              "#d8576b"
             ],
             [
              0.6666666666666666,
              "#ed7953"
             ],
             [
              0.7777777777777778,
              "#fb9f3a"
             ],
             [
              0.8888888888888888,
              "#fdca26"
             ],
             [
              1,
              "#f0f921"
             ]
            ],
            "type": "histogram2dcontour"
           }
          ],
          "mesh3d": [
           {
            "colorbar": {
             "outlinewidth": 0,
             "ticks": ""
            },
            "type": "mesh3d"
           }
          ],
          "parcoords": [
           {
            "line": {
             "colorbar": {
              "outlinewidth": 0,
              "ticks": ""
             }
            },
            "type": "parcoords"
           }
          ],
          "pie": [
           {
            "automargin": true,
            "type": "pie"
           }
          ],
          "scatter": [
           {
            "marker": {
             "colorbar": {
              "outlinewidth": 0,
              "ticks": ""
             }
            },
            "type": "scatter"
           }
          ],
          "scatter3d": [
           {
            "line": {
             "colorbar": {
              "outlinewidth": 0,
              "ticks": ""
             }
            },
            "marker": {
             "colorbar": {
              "outlinewidth": 0,
              "ticks": ""
             }
            },
            "type": "scatter3d"
           }
          ],
          "scattercarpet": [
           {
            "marker": {
             "colorbar": {
              "outlinewidth": 0,
              "ticks": ""
             }
            },
            "type": "scattercarpet"
           }
          ],
          "scattergeo": [
           {
            "marker": {
             "colorbar": {
              "outlinewidth": 0,
              "ticks": ""
             }
            },
            "type": "scattergeo"
           }
          ],
          "scattergl": [
           {
            "marker": {
             "colorbar": {
              "outlinewidth": 0,
              "ticks": ""
             }
            },
            "type": "scattergl"
           }
          ],
          "scattermapbox": [
           {
            "marker": {
             "colorbar": {
              "outlinewidth": 0,
              "ticks": ""
             }
            },
            "type": "scattermapbox"
           }
          ],
          "scatterpolar": [
           {
            "marker": {
             "colorbar": {
              "outlinewidth": 0,
              "ticks": ""
             }
            },
            "type": "scatterpolar"
           }
          ],
          "scatterpolargl": [
           {
            "marker": {
             "colorbar": {
              "outlinewidth": 0,
              "ticks": ""
             }
            },
            "type": "scatterpolargl"
           }
          ],
          "scatterternary": [
           {
            "marker": {
             "colorbar": {
              "outlinewidth": 0,
              "ticks": ""
             }
            },
            "type": "scatterternary"
           }
          ],
          "surface": [
           {
            "colorbar": {
             "outlinewidth": 0,
             "ticks": ""
            },
            "colorscale": [
             [
              0,
              "#0d0887"
             ],
             [
              0.1111111111111111,
              "#46039f"
             ],
             [
              0.2222222222222222,
              "#7201a8"
             ],
             [
              0.3333333333333333,
              "#9c179e"
             ],
             [
              0.4444444444444444,
              "#bd3786"
             ],
             [
              0.5555555555555556,
              "#d8576b"
             ],
             [
              0.6666666666666666,
              "#ed7953"
             ],
             [
              0.7777777777777778,
              "#fb9f3a"
             ],
             [
              0.8888888888888888,
              "#fdca26"
             ],
             [
              1,
              "#f0f921"
             ]
            ],
            "type": "surface"
           }
          ],
          "table": [
           {
            "cells": {
             "fill": {
              "color": "#EBF0F8"
             },
             "line": {
              "color": "white"
             }
            },
            "header": {
             "fill": {
              "color": "#C8D4E3"
             },
             "line": {
              "color": "white"
             }
            },
            "type": "table"
           }
          ]
         },
         "layout": {
          "annotationdefaults": {
           "arrowcolor": "#2a3f5f",
           "arrowhead": 0,
           "arrowwidth": 1
          },
          "coloraxis": {
           "colorbar": {
            "outlinewidth": 0,
            "ticks": ""
           }
          },
          "colorscale": {
           "diverging": [
            [
             0,
             "#8e0152"
            ],
            [
             0.1,
             "#c51b7d"
            ],
            [
             0.2,
             "#de77ae"
            ],
            [
             0.3,
             "#f1b6da"
            ],
            [
             0.4,
             "#fde0ef"
            ],
            [
             0.5,
             "#f7f7f7"
            ],
            [
             0.6,
             "#e6f5d0"
            ],
            [
             0.7,
             "#b8e186"
            ],
            [
             0.8,
             "#7fbc41"
            ],
            [
             0.9,
             "#4d9221"
            ],
            [
             1,
             "#276419"
            ]
           ],
           "sequential": [
            [
             0,
             "#0d0887"
            ],
            [
             0.1111111111111111,
             "#46039f"
            ],
            [
             0.2222222222222222,
             "#7201a8"
            ],
            [
             0.3333333333333333,
             "#9c179e"
            ],
            [
             0.4444444444444444,
             "#bd3786"
            ],
            [
             0.5555555555555556,
             "#d8576b"
            ],
            [
             0.6666666666666666,
             "#ed7953"
            ],
            [
             0.7777777777777778,
             "#fb9f3a"
            ],
            [
             0.8888888888888888,
             "#fdca26"
            ],
            [
             1,
             "#f0f921"
            ]
           ],
           "sequentialminus": [
            [
             0,
             "#0d0887"
            ],
            [
             0.1111111111111111,
             "#46039f"
            ],
            [
             0.2222222222222222,
             "#7201a8"
            ],
            [
             0.3333333333333333,
             "#9c179e"
            ],
            [
             0.4444444444444444,
             "#bd3786"
            ],
            [
             0.5555555555555556,
             "#d8576b"
            ],
            [
             0.6666666666666666,
             "#ed7953"
            ],
            [
             0.7777777777777778,
             "#fb9f3a"
            ],
            [
             0.8888888888888888,
             "#fdca26"
            ],
            [
             1,
             "#f0f921"
            ]
           ]
          },
          "colorway": [
           "#636efa",
           "#EF553B",
           "#00cc96",
           "#ab63fa",
           "#FFA15A",
           "#19d3f3",
           "#FF6692",
           "#B6E880",
           "#FF97FF",
           "#FECB52"
          ],
          "font": {
           "color": "#2a3f5f"
          },
          "geo": {
           "bgcolor": "white",
           "lakecolor": "white",
           "landcolor": "#E5ECF6",
           "showlakes": true,
           "showland": true,
           "subunitcolor": "white"
          },
          "hoverlabel": {
           "align": "left"
          },
          "hovermode": "closest",
          "mapbox": {
           "style": "light"
          },
          "paper_bgcolor": "white",
          "plot_bgcolor": "#E5ECF6",
          "polar": {
           "angularaxis": {
            "gridcolor": "white",
            "linecolor": "white",
            "ticks": ""
           },
           "bgcolor": "#E5ECF6",
           "radialaxis": {
            "gridcolor": "white",
            "linecolor": "white",
            "ticks": ""
           }
          },
          "scene": {
           "xaxis": {
            "backgroundcolor": "#E5ECF6",
            "gridcolor": "white",
            "gridwidth": 2,
            "linecolor": "white",
            "showbackground": true,
            "ticks": "",
            "zerolinecolor": "white"
           },
           "yaxis": {
            "backgroundcolor": "#E5ECF6",
            "gridcolor": "white",
            "gridwidth": 2,
            "linecolor": "white",
            "showbackground": true,
            "ticks": "",
            "zerolinecolor": "white"
           },
           "zaxis": {
            "backgroundcolor": "#E5ECF6",
            "gridcolor": "white",
            "gridwidth": 2,
            "linecolor": "white",
            "showbackground": true,
            "ticks": "",
            "zerolinecolor": "white"
           }
          },
          "shapedefaults": {
           "line": {
            "color": "#2a3f5f"
           }
          },
          "ternary": {
           "aaxis": {
            "gridcolor": "white",
            "linecolor": "white",
            "ticks": ""
           },
           "baxis": {
            "gridcolor": "white",
            "linecolor": "white",
            "ticks": ""
           },
           "bgcolor": "#E5ECF6",
           "caxis": {
            "gridcolor": "white",
            "linecolor": "white",
            "ticks": ""
           }
          },
          "title": {
           "x": 0.05
          },
          "xaxis": {
           "automargin": true,
           "gridcolor": "white",
           "linecolor": "white",
           "ticks": "",
           "title": {
            "standoff": 15
           },
           "zerolinecolor": "white",
           "zerolinewidth": 2
          },
          "yaxis": {
           "automargin": true,
           "gridcolor": "white",
           "linecolor": "white",
           "ticks": "",
           "title": {
            "standoff": 15
           },
           "zerolinecolor": "white",
           "zerolinewidth": 2
          }
         }
        }
       }
      },
      "text/html": [
       "<div>\n",
       "        \n",
       "        \n",
       "            <div id=\"72d97b1e-a7b3-425a-96fd-d9652609af33\" class=\"plotly-graph-div\" style=\"height:525px; width:100%;\"></div>\n",
       "            <script type=\"text/javascript\">\n",
       "                require([\"plotly\"], function(Plotly) {\n",
       "                    window.PLOTLYENV=window.PLOTLYENV || {};\n",
       "                    \n",
       "                if (document.getElementById(\"72d97b1e-a7b3-425a-96fd-d9652609af33\")) {\n",
       "                    Plotly.newPlot(\n",
       "                        '72d97b1e-a7b3-425a-96fd-d9652609af33',\n",
       "                        [{\"mode\": \"lines+markers\", \"name\": \"Original Plot\", \"type\": \"scatter\", \"y\": [null, null, null, null, null, 0.0, 0.0, 0.010635733805892583, 0.0015105909731880477, 0.009149097219095407, 0.0182742400517999, 0.0, 0.0, 0.0, 0.04434782294384529, 0.07649799028062977, 0.06282738630756632, 0.06584514619874372, 0.06284107452836105, 0.0826977687125214, 0.08424258023769625, 0.07202097024424456, 0.07044536022228151, 0.061316795334378275, 0.07962525593816502, 0.0781351972961691, 0.07658696371579554, 0.0689963662426698, 0.09193583936678254, 0.11026825435696011, 0.08739722233682103, 0.08893518975159866, 0.11641327990567285, 0.1057262152717999, 0.08120428801532681, 0.056682360758853634, 0.04598502995938467, 0.0688218414275369, 0.044354667054242694, 0.010813680676224229, 0.06579723742596207, 0.09338825540159294, 0.07971765142852955, 0.08734246945364214, 0.09494333309236391, 0.07055828804383808, 0.0888804368684196, 0.10871317666618915, 0.07814546346176517, 0.05205819234892501, 0.030680641025980594, 0.061179913126430924, 0.058110822407273215, 0.021504167365295788, 0.05053733521014094, 0.09028494413044852, 0.07347680833425371, 0.03223571871675155, 0.0520924129009119, 0.09178869099323912, 0.06124493217520588, 0.02605305056085331, 0.03211594678479759, 0.03509264201359077, 0.04734847255902926, 0.048872751753012075, 0.03509948612398804, 0.022843655578549595, 0.02132279843976544, 0.03664087559396428, 0.05651810210931675, 0.048913816415396286, 0.044395731716626904, 0.08100580881380312, 0.0611936013472256, 0.045892634469020185, 0.055031465522519446, 0.058127932683266596, 0.0672736078471633, 0.055082796350499764, 0.05965905598764677, 0.06880130909634477, 0.05356878332211305, 0.06426953617678063, 0.08266354816053455, 0.09949221628792143, 0.09179553510363644, 0.04903016629215155, 0.061145692574443994, 0.04590290063461625, 0.047485354766976656, 0.07648430205983496, 0.06275552314839389, 0.04293647157141913, 0.07499424341783908, 0.08424942434809365, 0.09188793059400097, 0.08260879527735557, 0.024535615477267902, 0.024463752318095503, 0.05042782944378299, 0.047430601883797725, 0.047444290104592446, 0.05207530262491843, 0.05819637378724034, 0.053664600867676236, 0.07051037927105647, 0.09351829349914294, 0.11797520170684113, 0.10118075413144108, 0.08130694967128736, 0.08581134614926197, 0.049081497120131864, 0.018541160357297325, 0.0612620424511993, 0.06738311361352121, 0.029282977874349154, 0.0643619316671452, 0.06276578931398999, 0.03374630968993956, 0.024569836029254707, 0.04902674423695289, 0.06437904194313862, 0.07355209354862477, 0.061316795334378275, 0.046002140235378096, 0.041377971825449555, 0.03840812070705373, 0.08121455418092274, 0.09806033258430323, 0.07360684643180367, 0.05212663345289861, 0.03529112121511441, 0.042943315681816537, 0.06584856825394238, 0.053661178812477534, 0.0460158284561729, 0.05516834773046692, 0.05666182842766151, 0.03219807610956592, 0.021480212978904914, 0.035181615448756545, 0.024549303698062623, 0.03832599138228523, 0.06127230861679532, 0.061330483555172996, 0.06433797728075437, 0.04293647157141913, 0.033855815456297504, 0.08875382082606827, 0.11023745586017192, 0.0934532744503679, 0.08111189252496233, 0.04440257582702431, 0.03677775780191172, 0.0795054840062111, 0.06580065948116084, 0.042874874577842795, 0.05198632918975265, 0.050472316161365945, 0.04738953722141347, 0.03674695930512357, 0.06277605547958605, 0.08867169150129985, 0.05045178383017382, 0.0014969027523933259, 0.007604285693920468, 0.04123424550710476, 0.04283038786025988, 0.03981262796908249, 0.05506226401930759, 0.045920010910609765, 0.04130268661107846, 0.03522610216633942, 0.05501777730172481, 0.030598511701212087, 0.021521277641289166, 0.08566761983091721, 0.08732193712245001, 0.07978951458770187, 0.12556579917996688, 0.108812416266951, 0.08590374163962654, 0.10570910499580657, 0.10419509196741969, 0.09034654112402472, 0.04750588709816878, 0.032150167336784434, 0.039778407417095644, 0.05053391315494219, 0.07037349706310916, 0.05077345701885013, 0.14697757105489814, 0.14841972092411243, 0.014026497713726648, 0.032057771846419905, 0.03217412172317517, 0.06587252264033312, 0.10557222278785909, 0.06285818480435451, 0.05059208809331987, 0.07350760683104182, 0.08584214464605007, 0.1133544553521112, 0.1072402283001867, 0.07817968401375193, 0.06894845746988827, 0.06892108102829865, 0.06589989908192273, 0.08122139829132023, 0.10415060524983691, 0.09503915063792705, 0.09651894311432699, 0.08425626845849106, 0.06443379482631768, 0.08578739176287109, 0.06865416072280132, 0.031989330742446254, 0.04260111016194801, 0.042649018934729575, 0.05331897329260901, 0.042679817431517726, 0.056432550729349544, 0.06865073866760261, 0.05344558933496038, 0.07330570557431938, 0.08861009450772354, 0.08096816620661754, 0.06418056274161481, 0.07940966646064787, 0.07481629654750747, 0.054976712639340425, 0.06871575771637778, 0.08400303637378835, 0.0748334068235009, 0.05804580335849818, 0.07473416722273907, 0.03961072671236006, 0.028961304685672755, 0.08392090704901993, 0.07782721232828747, 0.030441097162072613, 0.024285805447763945, 0.05178784998822897, 0.041456679095019315, 0.04135401743905877, 0.03364364803397897, 0.013766421518626453, 0.007672726797894077, 0.03512686256557753, 0.021459680647712833, 0.03060535581160945, 0.035133706675974846, 0.0015277012491814283, 0.0, 0.0, 0.018349525266170914, 0.03988106907305614, 0.08579423587326855, 0.101095202751474, 0.06600598279308185, 0.07204834668583404, 0.0766793592061599, 0.09190161881479574, 0.06285818480435447, 0.03991871168024178, 0.058234016394425756, 0.07354867149342603, 0.07207914518262219, 0.08278332009248847, 0.0888462163164327, 0.05671658131084044, 0.029255601432759668, 0.07816599579295724, 0.11636537113289115, 0.07062330709261307, 0.0720038599682511, 0.052119789342501256, 0.0399323999010365, 0.07503873013542191, 0.07359658026620751, 0.07663487248857703, 0.07047958077426845, 0.04757090614694382, 0.05664814020686674, 0.039870802907460035, 0.042912517185028344, 0.053650912646881474, 0.07057197626463271, 0.11177542327494928, 0.07520641084015744, 0.07666224893016656, 0.08116322335294252, 0.04300149062019417, 0.05214032167369347, 0.07810097674418216, 0.06434482139115173, 0.035301387380710564, 0.04137112771505202, 0.05208899084571302, 0.056723425421237754, 0.06892792513869611, 0.05669604897964831, 0.039884491128254845, 0.0490609647889397, 0.05215058783928949, 0.05505541990891023, 0.061118316132854546, 0.02602567411926369, 0.039751030975506245, 0.06419082890721091, 0.04899936779536332, 0.06260495271965182, 0.013646649586672572, 0.0, 0.036640875593964235, 0.07190804242268795, 0.09342932006397715, 0.11790676060286738, 0.11180964382693631, 0.09342932006397725, 0.07818995017934817, 0.11335445535211115, 0.14097284976933153, 0.15930184270431033, 0.13026183074906786, 0.10579123432057494, 0.12256857161998147, 0.13485862271740703, 0.14860793396004016, 0.13637947985619114, 0.11951316912161862, 0.10417798169142639, 0.09500493008594024, 0.10731893556975645, 0.15783231639350664, 0.1900030160614831, 0.1792988411516167, 0.14258952445367878, 0.13341305079299393, 0.16552557552259278, 0.18848215892269898, 0.17477049028725142, 0.1686391529593333, 0.17320856848608296, 0.17322910081727508, 0.17779509428882612, 0.17018054242930963, 0.17629134742603553, 0.1839743403895257, 0.19776813834974177, 0.20989393079763025, 0.15337240663311486, 0.14263743322646036, 0.18075810129682462, 0.15946610135384726, 0.16412791237096142, 0.22060837187309262, 0.19620279449337472, 0.15644491940747132, 0.16400129632861013, 0.16709091937895984, 0.174763646176854, 0.1870023664462992, 0.15041624373551385, 0.1273672648450432, 0.11954054556320806, 0.09970096165504118, 0.11036064984732451, 0.11489584482208731, 0.08285518325166087, 0.07971422937333081, 0.07812150907537438, 0.03536982848468417, 0.04754352970535429, 0.06893476924909342, 0.05826139283601529, 0.04609453572574266, 0.08128299528489648, 0.11642012401607012, 0.08128641734009527, 0.047639347250917514, 0.06595807402030028, 0.08119402184973075, 0.06271445848600984, 0.032204920219963365, 0.047533263539758355, 0.10099596315071216, 0.08272856720930959, 0.058322989829591665, 0.0933950995119904, 0.08887359275802231, 0.08113242485615446, 0.03983658235547336, 0.026090693168038862, 0.06881499731713962, 0.05975829558840866, 0.06596491813069777, 0.1179375590996557, 0.12558633151115903, 0.07820363840014288, 0.05977540586440217, 0.06428664645277414, 0.050629730700505464, 0.0873458915088408, 0.12399361121320253, 0.07974160581492033, 0.06594096374430694, 0.08727060629446978, 0.07506268452181282, 0.059778827919600784, 0.0688663281451199, 0.049033588347350256, 0.05205477029372643, 0.05658312115809183, 0.029084498672825424, 0.02452192725647318, 0.06119360134722565, 0.06892450308349748, 0.07355209354862473, 0.08574632710048706, 0.06894845746988831, 0.05975829558840883, 0.055202568282453644, 0.09038760578640885, 0.1058186107621643, 0.1393561750849841, 0.09035338523442209, 0.012358492201399169, 0.022860765854542973, 0.015290700712609441, 0.02296342751050352, 0.059665900098044136, 0.0567028930900458, 0.061368126162358594, 0.10111573508266604, 0.10871317666618928, 0.05063315275570426, 0.030632732253198982, 0.026025674119263868, 0.03521925805594214, 0.05209583495611051, 0.07514139179138254, 0.11639959168487808, 0.09811508546748225, 0.0782139045657389, 0.07818995017934807, 0.08735957972963553, 0.08884963837163158, 0.06292662590832816, 0.08274567748530318, 0.09041840428319725, 0.08582161231485799, 0.07203465846503933, 0.05984042491317716, 0.0857634373764804, 0.0766314504333785, 0.06594780785470435, 0.07961156771737035, 0.05211636728730273, 0.03988106907305614, 0.061183335181629626, 0.03525347860792899, 0.0321672776127779, 0.04442653021341523, 0.06434139933595312, 0.07650141233582851, 0.07652536672221917, 0.07493949053465998, 0.04899936779536332, 0.06419767301760823, 0.055072530184903656, 0.05821348406323363, 0.10549351551828932, 0.0674002238895146, 0.06437219783274117, 0.11481713755251759, 0.13169371445268604, 0.11041540273050349, 0.08737326795043024, 0.029105031004017554, 0.0, 0.041152116182336294, 0.04275168059069012, 0.03373604352434341, 0.09938955463196093, 0.09186739826280889, 0.07809071057858614, 0.0735178729966378, 0.09193241731158379, 0.13313928637709915, 0.0965531636663138, 0.09040129400720374, 0.10873028694218254, 0.11330996863452829, 0.09331981429761912, 0.030619044032404258, 0.021459680647712743, 0.08718163285930387, 0.11024087791537063, 0.10882610448774567, 0.1361946888754619, 0.07958761333097943, 0.015365985926980543, 0.04581050514425168, 0.06120044545762306, 0.08111189252496225, 0.08870591205328669, 0.049033588347350165, 0.06281369808677152, 0.11627297564252671, 0.09805691052910448, 0.09654631955591648, 0.12243168941203425, 0.08577712559727511, 0.06430033467356887, 0.061262042451199344, 0.09032943084803134, 0.11176173505415474, 0.10269134510462913, 0.12401414354439456, 0.10419166991222102, 0.09952643683990832, 0.08274567748530291, 0.09797135914913728, 0.09180237921403389, 0.050657107142094905, 0.10249628795830407, 0.09800557970112413, 0.08732535917764868, 0.09793371654195172, 0.05512043895768514, 0.06729071812315673, 0.07180195871152861, 0.027573907699637336, 0.05651810210931658, 0.06418056274161472, 0.045896056524218715, 0.059662478042845433, 0.0856710418861157, 0.08881199576444576, 0.10107124836508317, 0.11483424782851093, 0.10877135160456679, 0.11634826085689773, 0.0949672874787546, 0.09032943084803118, 0.08723638574248277, 0.07505926246661394, 0.09803980025311097, 0.13930484425700393, 0.12407574053797077, 0.1041642934706315, 0.06889712664190796, 0.06427980234237665, 0.05666867253805878, 0.07352813916223382, 0.10555511251186571, 0.06439957427433061, 0.07362053465259834, 0.13932195453299717, 0.13479360366863194, 0.09354909199593105, 0.09956065739189508, 0.09645392406555187, 0.06740022388951468, 0.058124510628067894, 0.03836021193427203, 0.09026098974405748, 0.09189135264919962, 0.08580792409406326, 0.0964162814583664, 0.06434139933595294, 0.05668920486925091, 0.08276620981649496, 0.13773265629023954, 0.09809455313628995, 0.07972791759412562, 0.10411638469784992, 0.09806717669470041, 0.10111573508266596, 0.1042430007402013, 0.13330012297143737, 0.14402483021249568, 0.11040171450970884, 0.08902074113156573, 0.10724365035538554, 0.06592727552351213, 0.01847271925332367, 0.07500793163863376, 0.1210169159844093, 0.14397007732931671, 0.11498139620205461, 0.1087781957149642, 0.09642654762396251, 0.04448812720699143, 0.05820663995283649, 0.09643339173435991, 0.09806717669470051, 0.10728813707296832, 0.13020023375549156, 0.11957476611519499, 0.1271345650915325, 0.10270503332542394, 0.10114995563465298, 0.11334418918651513, 0.10273925387741079, 0.13022076608668368, 0.133248792143457, 0.09351487144394437, 0.08427680078968322, 0.09191530703559045, 0.10121497468342788, 0.1531841935971872, 0.15631145925472245, 0.13643765479456874, 0.12720985030590362, 0.10114653357945419, 0.06759185898064105, 0.09969411754464387, 0.1423944673073538, 0.07682650757970358, 0.08896941030358546, 0.11933864430648576, 0.08884963837163158, 0.08719189902489999, 0.0596522118772495, 0.04290909512982964, 0.09794740476274653, 0.13320430542587414, 0.13176899966705716, 0.1379003369949751, 0.14850869435927838, 0.10412665086344612, 0.058391430933565365, 0.14539169486733908, 0.1562019534883644, 0.1211606423027541, 0.12711403276034047, 0.11187466287571139, 0.09653605339032037, 0.08430759928647129, 0.0966147606598901, 0.14702205777248104, 0.13174162322546754, 0.06603335923467138, 0.05667551664845619, 0.07650483439102714, 0.06883895170353029, 0.03685988712668022, 0.09039444989680634, 0.15152645425045577, 0.10883979270854066, 0.08740406644721847, 0.10879872804615623, 0.13336856407541106, 0.16860151035214793, 0.1869852561703056, 0.174763646176854, 0.15628408281313302, 0.10274609798780811, 0.09046289100078003, 0.11637563729848725, 0.1027426759326094, 0.12867253250631014, 0.12411338314515659, 0.10885348092933529, 0.12112642175076725, 0.15938739408427752, 0.1777198090744552, 0.1395922968936936, 0.15019038809240065, 0.14564492695204173, 0.1519131464879072, 0.2268013061945871, 0.23452536382046127, 0.19782289123292074, 0.15792471188387108, 0.20687617090645283, 0.26040388956618166, 0.23774502496836114, 0.29880516616283803, 0.3003123350808274, 0.2299935909008972, 0.18708791782626605, 0.19467509324419335, 0.19321583309898563, 0.21622716938227055, 0.26048944094614895, 0.21928599393583212, 0.1947709107897565, 0.20399187116802414, 0.252953596356202, 0.2774584133366818, 0.2561253487313202, 0.256139036952115, 0.28362739327178516, 0.27901691308265125, 0.23946778336386748, 0.26997389957471535, 0.3464582016345503, 0.3098960333101559, 0.2792393466705661, 0.26703142489790893, 0.3054087471081748, 0.3972419248189966, 0.43559871469807004, 0.4175058435718003, 0.4864440348760926, 0.5907725869962612, 0.7213218703820187, 0.9157608418175027, 1.0, 0.8834258834999893, 0.5892517298574769, 0.31642090698592235, 0.19491121505290251, 0.10437646089295008, 0.0934532744503679, 0.06290609357713621, 0.07059935270622242, 0.09955723533669639, 0.04947503346798075, 0.21773091624506133, 0.4030618551238342, 0.4278746570721957, 0.4076791794233655, 0.20529713882929104, 0.11632088441530801, 0.12518937310811123, 0.0808620824954582, 0.06088219432414505, 0.051599636952301124, 0.019524754829887837, 0.03168818988496168, 0.037754508164104784, 0.005741223035267612, 0.030139956304588034, 0.042368410408437036, 0.021011391416684667, 0.022367989905932025, 0.0, 0.0, 0.022942895179311393, 0.08411254214014639, 0.08878461932285658, 0.06746866499348829, 0.09486462582279398, 0.0705138013262552, 0.08416729502332528, 0.06586225647473705, 0.06444063893671487, 0.13010783826512712, 0.12107509092278707, 0.11489926687728584, 0.09491253459557564, 0.04445048459980597, 0.042912517185028434, 0.08875039877086956, 0.09334034662881142, 0.050509958768551494, 0.021442570371719406, 0.04577970664746371, 0.0274849342644716, 0.01984300596336558, 0.03653821393800369, 0.0, 0.010659688192283499, 0.03673669313952755, 0.07343574367186938, 0.06280343192117567, 0.053698821419663215, 0.0918845085388024, 0.09795767092834255, 0.04289198485383622, 0.006196356376693096, 0.0473655828350229, 0.04894803696738322, 0.032177543778373834, 0.04594396529700037, 0.07036665295271172, 0.04744086804939383, 0.018363213486965808, 0.018291350327793412, 0.01525305810542389, 0.02291551873772195, 0.0366237653179709, 0.010673376413078134, 0.006032097727156259, 0.006014987451162747, 0.0029732731735945253, 0.009019059121545419, 0.0, 0.030543758818033156, 0.05202739385213699, 0.06435850961194654, 0.09182975565562333, 0.0675576384286542, 0.11643723429206337, 0.13773607834543833, 0.0491396720585095, 0.032160433502380494, 0.04281327758426642, 0.041333485107866816, 0.05202739385213699, 0.05351060838373529, 0.023001070117689155, 0.04136428360465479, 0.08563339927893024, 0.052154009894488276, 0.06581092564675686, 0.058127932683266596, 0.024549303698062623, 0.045916588855411104, 0.07034269856632114, 0.04130953072147573, 0.013879349340183367, 0.07333308201590884, 0.044371777330236166, 0.013858817008991152, 0.06106698530487445, 0.024515083146075776, 0.02753968714765066, 0.050400453002193375, 0.022936051068913988, 0.015270168381417228, 0.03055060292843056, 0.039802361803486515, 0.06275894520359271, 0.0718669777603037, 0.02312426410484174, 0.07810782085457975, 0.12097242926682653, 0.10587336364534318, 0.14241842169374463, 0.10416429347063158, 0.03998030867381816, 0.06891765897310008, 0.09348065089195752, 0.11791702676846366, 0.09041156017279985, 0.06299506701230177, 0.11320046286817034, 0.09651894311432686, 0.08742459877841034, 0.13629392847622393, 0.1377189680694448, 0.04298095828900213, 0.03266005356138841, 0.29387301278502787, 0.29400305088257783, 0.09083247296223797, 0.09645392406555205, 0.08105371758658447, 0.019914869122537978, 0.021339908715758863, 0.03661007709717609, 0.03216385555757902, 0.07804280180580475, 0.10407532003546567, 0.08574974915568559, 0.06272814670680439, 0.03374630968993951, 0.07644323739745075, 0.07038376322870522, 0.050578399872525194, 0.08092367948903466, 0.007587175417926957, 0.0, 0.07039060733910263, 0.1561164021083973, 0.16389521261745055, 0.14100707032131837, 0.1453506302049549, 0.06133390561037166, 0.05976856175400485, 0.12694293000040596, 0.10866868994860623, 0.06736942539272645, 0.0627315687620031, 0.07953286044780046, 0.08261906144295163, 0.07946099728862806, 0.03059851170121222, 0.04433755677824932, 0.08880857370924733, 0.15009799260203602, 0.1868586401279543, 0.1685536015793661, 0.1440932713164692, 0.15462634346640142, 0.10725049446578276, 0.08889412508921436, 0.125411806696026, 0.07806333413699679, 0.045920010910609634, 0.06581776975715445, 0.11469736562056379, 0.09188793059400109, 0.09041840428319725, 0.1391508517730631, 0.07210994367941033, 0.1026605466078409, 0.1682764151082728, 0.10416429347063158, 0.06121413367841778, 0.047416913663002914, 0.06873286799237122, 0.0503764986158028, 0.018414544314946168, 0.0901617501432958, 0.09782421077559386, 0.03666482998035498, 0.0059807668991757245, 0.00915936338469134, 0.09471063333885324, 0.09176815866204686, 0.05670289309004572, 0.0857463271004869, 0.07047273666387095, 0.036798290133103845, 0.022977115731298414, 0.024583524250049647, 0.0734802303894525, 0.07665882687496794, 0.08277647598209124, 0.08268065843652793, 0.03377368613152913, 0.024583524250049647, 0.0628924053563414, 0.12404836409638159, 0.10731551351455793, 0.07820363840014288, 0.0567097372004433, 0.03845602947983561, 0.0949125345955758, 0.08273198926450828, 0.04447786104139559, 0.029098186893620235, 0.021360441046951076, 0.0, 0.0, 0.08268408049172654, 0.1897908486391645, 0.18214207622766107, 0.07051380132625512, 0.03061904403240417, 0.06419425096240944, 0.08869906794288929, 0.08262932760854783, 0.07656643138460342, 0.10410954058745261, 0.13013179265151759, 0.12562739617354313, 0.13472174050945945, 0.10721969596899435, 0.0964847225623401, 0.10554484634626943, 0.0689073928075039, 0.07204834668583396, 0.1469809931100968, 0.17752132987293123, 0.09656685188710844, 0.0720928334034169, 0.13930484425700393, 0.160716616131935, 0.10414376113943946, 0.06136128205196119, 0.11477607289013333, 0.13311190993550953, 0.08122139829132027, 0.08572237271409607, 0.10099596315071199, 0.0949022684299796, 0.08716452258331045, 0.048978835464171276, 0.059689854484434784, 0.1055311581254748, 0.0995709235574911, 0.12090741021805108, 0.104181403746625, 0.11800600020362931, 0.1683448562122464, 0.1210032277636144, 0.07821732662093743, 0.12087318966606442, 0.11020665736338368, 0.07962525593816498, 0.07813861935136764, 0.12716194153312196, 0.18982506919115116, 0.12258568189597481, 0.07960814566217156, 0.026046206450455908, 0.02751231070606104, 0.05351403043893399, 0.047461400380585696, 0.05976513969880597, 0.08430759928647102, 0.11639616962967929, 0.09501861830673487, 0.06739337977911719, 0.03215701144718179, 0.015225681663834272, 0.0, 0.10548324935269322, 0.15890146224606388, 0.030663530749987213, 0.016763649078611807, 0.07775192711391611, 0.03803169463519845, 0.0, 0.041234245507104715, 0.09628966541601494, 0.08110504841456492, 0.0673557371719319, 0.08256773061497119, 0.06732836073034228, 0.06880815320674187, 0.06267339382362543, 0.050516802878948816, 0.08559575667174495, 0.07183275720831693, 0.03061904403240417, 0.05956323844208367, 0.06414292013442925, 0.03357520693000519, 0.02290183051692705, 0.06282738630756632, 0.16531340810027428, 0.18369715391843214, 0.10420193607781687, 0.061173069016033435, 0.027522576871657062, 0.051982907134553946, 0.09325137319364543, 0.07805649002659912, 0.0734357436718693, 0.07194226297467506, 0.09190504086999435, 0.139215870821838, 0.09805691052910448, 0.09041156017279976, 0.12854591646395874, 0.11028878668815219, 0.10564408594703144, 0.09645050201035325, 0.08884279426123391, 0.11170698217097567, 0.0963375741887966, 0.032868798928508115, 0.35819045773458985, 0.3873194431249983, 0.10782539973916186, 0.11170698217097567, 0.0780530679714006, 0.05351060838373538, 0.042878296633041324, 0.09491253459557554, 0.14732662068516397, 0.3062486152624201, 0.24947728106840095, 0.0, 0.0, 0.045892634469020276, 0.14839234448252311, 0.16688559606703876, 0.1364171224633765, 0.15617457704677506, 0.14097627182453024, 0.15616773293637767, 0.13320772748107276, 0.09816641629546234, 0.16386783617586145, 0.20366677592414908, 0.1731230171061159, 0.1378455841117961, 0.10570568294060782, 0.11489584482208748, 0.1577159665167513, 0.16855017952416756, 0.18843425014991758, 0.18839660754273185, 0.15173177756237688, 0.1517386216727741, 0.19146569826188953, 0.19451083459465626, 0.15023829686518195, 0.16088771889186934, 0.18542333436913733, 0.21605264456713769, 0.2252530726142133, 0.20997606012239864, 0.20076194385452825, 0.19458611980902754, 0.17463018602410532, 0.13794482371255812, 0.1485702913528546, 0.15474953745355435, 0.17471231534887363, 0.21449072276596923, 0.220669968866669, 0.211397677660421, 0.15789391338708295, 0.1516530702928069, 0.1471144532628454, 0.1730922186093276, 0.1807136145792416, 0.14721027080840854, 0.18674571230639767, 0.13793455754696202, 0.13172793500467297, 0.13782162972540538, 0.09053133210475364, 0.09026098974405765, 0.11939681924486344, 0.11637905935368595, 0.10415060524983713, 0.10413349497384344, 0.10885348092933529, 0.1698520251302357, 0.11645092251285835, 0.07832683238729547, 0.11794440321005294, 0.10280085087098699, 0.12260963628236572, 0.11488557865649138, 0.04755037381575143, 0.0, 0.0412239793415087, 0.06420109507280694, 0.05052706904454501, 0.061268886561596486, 0.09645392406555187, 0.10713414458902741, 0.06596149607549924, 0.08877093110206159, 0.08262590555334903, 0.044433374323812454, 0.05041414122298818, 0.03055402498362909, 0.024535615477267816, 0.08571895065889744, 0.12547340368960214, 0.07977924842210597, 0.10093094410193708, 0.04132664099746924, 0.00919016188147966, 0.04413907757672546, 0.0, 0.016845778403380314, 0.08706186092735, 0.04435466705424248, 0.004689187458703532, 0.07181564693232316, 0.07032216623512857, 0.018448764866932667, 0.05048258232696205, 0.08093736770982912, 0.004535194974762628, 0.0, 0.06866442688839734, 0.07032901034552634, 0.06270419232041383, 0.06728729606795811, 0.07500450958343523, 0.10559275511905135, 0.11338183179370069, 0.14996795450448602, 0.10710676814743779, 0.03224598488234753, 0.07339467900948513, 0.10392817166192217, 0.05361669209489454, 0.06883210759313288, 0.09169629550287464, 0.05359958181890138, 0.073463120113459, 0.11319361875777294, 0.09800215764592568, 0.09634099624399521, 0.051982907134554036, 0.02903316784484524, 0.05805264746889567, 0.07802226947461254, 0.09786185338277942, 0.06888001636591436, 0.0687978870411462, 0.061149114629642606, 0.05666525048286016, 0.10859682678943385, 0.10860024884463254, 0.05818268556644566, 0.056596809378886295, null, null, null, null]}, {\"marker\": {\"color\": \"red\", \"size\": 8, \"symbol\": \"cross\"}, \"mode\": \"markers\", \"name\": \"Detected Peaks\", \"type\": \"scatter\", \"x\": [32, 108, 193, 274, 357, 426, 477, 490, 501, 560, 583, 614, 636, 682, 712, 725, 752, 799, 834, 850, 871, 887, 903, 930, 943, 961, 990, 1006, 1030, 1040, 1052, 1060, 1091, 1143, 1168], \"y\": [0.11641327990567285, 0.11797520170684113, 0.14841972092411243, 0.11636537113289115, 0.22060837187309262, 0.1393561750849841, 0.13169371445268604, 0.13313928637709915, 0.1361946888754619, 0.13932195453299717, 0.14402483021249568, 0.15631145925472245, 0.1562019534883644, 0.3003123350808274, 1.0, 0.4278746570721957, 0.13010783826512712, 0.13773607834543833, 0.14241842169374463, 0.29400305088257783, 0.16389521261745055, 0.1868586401279543, 0.1682764151082728, 0.12404836409638159, 0.1897908486391645, 0.17752132987293123, 0.18982506919115116, 0.15890146224606388, 0.18369715391843214, 0.139215870821838, 0.3873194431249983, 0.3062486152624201, 0.2252530726142133, 0.12547340368960214, 0.14996795450448602]}],\n",
       "                        {\"template\": {\"data\": {\"bar\": [{\"error_x\": {\"color\": \"#2a3f5f\"}, \"error_y\": {\"color\": \"#2a3f5f\"}, \"marker\": {\"line\": {\"color\": \"#E5ECF6\", \"width\": 0.5}}, \"type\": \"bar\"}], \"barpolar\": [{\"marker\": {\"line\": {\"color\": \"#E5ECF6\", \"width\": 0.5}}, \"type\": \"barpolar\"}], \"carpet\": [{\"aaxis\": {\"endlinecolor\": \"#2a3f5f\", \"gridcolor\": \"white\", \"linecolor\": \"white\", \"minorgridcolor\": \"white\", \"startlinecolor\": \"#2a3f5f\"}, \"baxis\": {\"endlinecolor\": \"#2a3f5f\", \"gridcolor\": \"white\", \"linecolor\": \"white\", \"minorgridcolor\": \"white\", \"startlinecolor\": \"#2a3f5f\"}, \"type\": \"carpet\"}], \"choropleth\": [{\"colorbar\": {\"outlinewidth\": 0, \"ticks\": \"\"}, \"type\": \"choropleth\"}], \"contour\": [{\"colorbar\": {\"outlinewidth\": 0, \"ticks\": \"\"}, \"colorscale\": [[0.0, \"#0d0887\"], [0.1111111111111111, \"#46039f\"], [0.2222222222222222, \"#7201a8\"], [0.3333333333333333, \"#9c179e\"], [0.4444444444444444, \"#bd3786\"], [0.5555555555555556, \"#d8576b\"], [0.6666666666666666, \"#ed7953\"], [0.7777777777777778, \"#fb9f3a\"], [0.8888888888888888, \"#fdca26\"], [1.0, \"#f0f921\"]], \"type\": \"contour\"}], \"contourcarpet\": [{\"colorbar\": {\"outlinewidth\": 0, \"ticks\": \"\"}, \"type\": \"contourcarpet\"}], \"heatmap\": [{\"colorbar\": {\"outlinewidth\": 0, \"ticks\": \"\"}, \"colorscale\": [[0.0, \"#0d0887\"], [0.1111111111111111, \"#46039f\"], [0.2222222222222222, \"#7201a8\"], [0.3333333333333333, \"#9c179e\"], [0.4444444444444444, \"#bd3786\"], [0.5555555555555556, \"#d8576b\"], [0.6666666666666666, \"#ed7953\"], [0.7777777777777778, \"#fb9f3a\"], [0.8888888888888888, \"#fdca26\"], [1.0, \"#f0f921\"]], \"type\": \"heatmap\"}], \"heatmapgl\": [{\"colorbar\": {\"outlinewidth\": 0, \"ticks\": \"\"}, \"colorscale\": [[0.0, \"#0d0887\"], [0.1111111111111111, \"#46039f\"], [0.2222222222222222, \"#7201a8\"], [0.3333333333333333, \"#9c179e\"], [0.4444444444444444, \"#bd3786\"], [0.5555555555555556, \"#d8576b\"], [0.6666666666666666, \"#ed7953\"], [0.7777777777777778, \"#fb9f3a\"], [0.8888888888888888, \"#fdca26\"], [1.0, \"#f0f921\"]], \"type\": \"heatmapgl\"}], \"histogram\": [{\"marker\": {\"colorbar\": {\"outlinewidth\": 0, \"ticks\": \"\"}}, \"type\": \"histogram\"}], \"histogram2d\": [{\"colorbar\": {\"outlinewidth\": 0, \"ticks\": \"\"}, \"colorscale\": [[0.0, \"#0d0887\"], [0.1111111111111111, \"#46039f\"], [0.2222222222222222, \"#7201a8\"], [0.3333333333333333, \"#9c179e\"], [0.4444444444444444, \"#bd3786\"], [0.5555555555555556, \"#d8576b\"], [0.6666666666666666, \"#ed7953\"], [0.7777777777777778, \"#fb9f3a\"], [0.8888888888888888, \"#fdca26\"], [1.0, \"#f0f921\"]], \"type\": \"histogram2d\"}], \"histogram2dcontour\": [{\"colorbar\": {\"outlinewidth\": 0, \"ticks\": \"\"}, \"colorscale\": [[0.0, \"#0d0887\"], [0.1111111111111111, \"#46039f\"], [0.2222222222222222, \"#7201a8\"], [0.3333333333333333, \"#9c179e\"], [0.4444444444444444, \"#bd3786\"], [0.5555555555555556, \"#d8576b\"], [0.6666666666666666, \"#ed7953\"], [0.7777777777777778, \"#fb9f3a\"], [0.8888888888888888, \"#fdca26\"], [1.0, \"#f0f921\"]], \"type\": \"histogram2dcontour\"}], \"mesh3d\": [{\"colorbar\": {\"outlinewidth\": 0, \"ticks\": \"\"}, \"type\": \"mesh3d\"}], \"parcoords\": [{\"line\": {\"colorbar\": {\"outlinewidth\": 0, \"ticks\": \"\"}}, \"type\": \"parcoords\"}], \"pie\": [{\"automargin\": true, \"type\": \"pie\"}], \"scatter\": [{\"marker\": {\"colorbar\": {\"outlinewidth\": 0, \"ticks\": \"\"}}, \"type\": \"scatter\"}], \"scatter3d\": [{\"line\": {\"colorbar\": {\"outlinewidth\": 0, \"ticks\": \"\"}}, \"marker\": {\"colorbar\": {\"outlinewidth\": 0, \"ticks\": \"\"}}, \"type\": \"scatter3d\"}], \"scattercarpet\": [{\"marker\": {\"colorbar\": {\"outlinewidth\": 0, \"ticks\": \"\"}}, \"type\": \"scattercarpet\"}], \"scattergeo\": [{\"marker\": {\"colorbar\": {\"outlinewidth\": 0, \"ticks\": \"\"}}, \"type\": \"scattergeo\"}], \"scattergl\": [{\"marker\": {\"colorbar\": {\"outlinewidth\": 0, \"ticks\": \"\"}}, \"type\": \"scattergl\"}], \"scattermapbox\": [{\"marker\": {\"colorbar\": {\"outlinewidth\": 0, \"ticks\": \"\"}}, \"type\": \"scattermapbox\"}], \"scatterpolar\": [{\"marker\": {\"colorbar\": {\"outlinewidth\": 0, \"ticks\": \"\"}}, \"type\": \"scatterpolar\"}], \"scatterpolargl\": [{\"marker\": {\"colorbar\": {\"outlinewidth\": 0, \"ticks\": \"\"}}, \"type\": \"scatterpolargl\"}], \"scatterternary\": [{\"marker\": {\"colorbar\": {\"outlinewidth\": 0, \"ticks\": \"\"}}, \"type\": \"scatterternary\"}], \"surface\": [{\"colorbar\": {\"outlinewidth\": 0, \"ticks\": \"\"}, \"colorscale\": [[0.0, \"#0d0887\"], [0.1111111111111111, \"#46039f\"], [0.2222222222222222, \"#7201a8\"], [0.3333333333333333, \"#9c179e\"], [0.4444444444444444, \"#bd3786\"], [0.5555555555555556, \"#d8576b\"], [0.6666666666666666, \"#ed7953\"], [0.7777777777777778, \"#fb9f3a\"], [0.8888888888888888, \"#fdca26\"], [1.0, \"#f0f921\"]], \"type\": \"surface\"}], \"table\": [{\"cells\": {\"fill\": {\"color\": \"#EBF0F8\"}, \"line\": {\"color\": \"white\"}}, \"header\": {\"fill\": {\"color\": \"#C8D4E3\"}, \"line\": {\"color\": \"white\"}}, \"type\": \"table\"}]}, \"layout\": {\"annotationdefaults\": {\"arrowcolor\": \"#2a3f5f\", \"arrowhead\": 0, \"arrowwidth\": 1}, \"coloraxis\": {\"colorbar\": {\"outlinewidth\": 0, \"ticks\": \"\"}}, \"colorscale\": {\"diverging\": [[0, \"#8e0152\"], [0.1, \"#c51b7d\"], [0.2, \"#de77ae\"], [0.3, \"#f1b6da\"], [0.4, \"#fde0ef\"], [0.5, \"#f7f7f7\"], [0.6, \"#e6f5d0\"], [0.7, \"#b8e186\"], [0.8, \"#7fbc41\"], [0.9, \"#4d9221\"], [1, \"#276419\"]], \"sequential\": [[0.0, \"#0d0887\"], [0.1111111111111111, \"#46039f\"], [0.2222222222222222, \"#7201a8\"], [0.3333333333333333, \"#9c179e\"], [0.4444444444444444, \"#bd3786\"], [0.5555555555555556, \"#d8576b\"], [0.6666666666666666, \"#ed7953\"], [0.7777777777777778, \"#fb9f3a\"], [0.8888888888888888, \"#fdca26\"], [1.0, \"#f0f921\"]], \"sequentialminus\": [[0.0, \"#0d0887\"], [0.1111111111111111, \"#46039f\"], [0.2222222222222222, \"#7201a8\"], [0.3333333333333333, \"#9c179e\"], [0.4444444444444444, \"#bd3786\"], [0.5555555555555556, \"#d8576b\"], [0.6666666666666666, \"#ed7953\"], [0.7777777777777778, \"#fb9f3a\"], [0.8888888888888888, \"#fdca26\"], [1.0, \"#f0f921\"]]}, \"colorway\": [\"#636efa\", \"#EF553B\", \"#00cc96\", \"#ab63fa\", \"#FFA15A\", \"#19d3f3\", \"#FF6692\", \"#B6E880\", \"#FF97FF\", \"#FECB52\"], \"font\": {\"color\": \"#2a3f5f\"}, \"geo\": {\"bgcolor\": \"white\", \"lakecolor\": \"white\", \"landcolor\": \"#E5ECF6\", \"showlakes\": true, \"showland\": true, \"subunitcolor\": \"white\"}, \"hoverlabel\": {\"align\": \"left\"}, \"hovermode\": \"closest\", \"mapbox\": {\"style\": \"light\"}, \"paper_bgcolor\": \"white\", \"plot_bgcolor\": \"#E5ECF6\", \"polar\": {\"angularaxis\": {\"gridcolor\": \"white\", \"linecolor\": \"white\", \"ticks\": \"\"}, \"bgcolor\": \"#E5ECF6\", \"radialaxis\": {\"gridcolor\": \"white\", \"linecolor\": \"white\", \"ticks\": \"\"}}, \"scene\": {\"xaxis\": {\"backgroundcolor\": \"#E5ECF6\", \"gridcolor\": \"white\", \"gridwidth\": 2, \"linecolor\": \"white\", \"showbackground\": true, \"ticks\": \"\", \"zerolinecolor\": \"white\"}, \"yaxis\": {\"backgroundcolor\": \"#E5ECF6\", \"gridcolor\": \"white\", \"gridwidth\": 2, \"linecolor\": \"white\", \"showbackground\": true, \"ticks\": \"\", \"zerolinecolor\": \"white\"}, \"zaxis\": {\"backgroundcolor\": \"#E5ECF6\", \"gridcolor\": \"white\", \"gridwidth\": 2, \"linecolor\": \"white\", \"showbackground\": true, \"ticks\": \"\", \"zerolinecolor\": \"white\"}}, \"shapedefaults\": {\"line\": {\"color\": \"#2a3f5f\"}}, \"ternary\": {\"aaxis\": {\"gridcolor\": \"white\", \"linecolor\": \"white\", \"ticks\": \"\"}, \"baxis\": {\"gridcolor\": \"white\", \"linecolor\": \"white\", \"ticks\": \"\"}, \"bgcolor\": \"#E5ECF6\", \"caxis\": {\"gridcolor\": \"white\", \"linecolor\": \"white\", \"ticks\": \"\"}}, \"title\": {\"x\": 0.05}, \"xaxis\": {\"automargin\": true, \"gridcolor\": \"white\", \"linecolor\": \"white\", \"ticks\": \"\", \"title\": {\"standoff\": 15}, \"zerolinecolor\": \"white\", \"zerolinewidth\": 2}, \"yaxis\": {\"automargin\": true, \"gridcolor\": \"white\", \"linecolor\": \"white\", \"ticks\": \"\", \"title\": {\"standoff\": 15}, \"zerolinecolor\": \"white\", \"zerolinewidth\": 2}}}},\n",
       "                        {\"responsive\": true}\n",
       "                    ).then(function(){\n",
       "                            \n",
       "var gd = document.getElementById('72d97b1e-a7b3-425a-96fd-d9652609af33');\n",
       "var x = new MutationObserver(function (mutations, observer) {{\n",
       "        var display = window.getComputedStyle(gd).display;\n",
       "        if (!display || display === 'none') {{\n",
       "            console.log([gd, 'removed!']);\n",
       "            Plotly.purge(gd);\n",
       "            observer.disconnect();\n",
       "        }}\n",
       "}});\n",
       "\n",
       "// Listen for the removal of the full notebook cells\n",
       "var notebookContainer = gd.closest('#notebook-container');\n",
       "if (notebookContainer) {{\n",
       "    x.observe(notebookContainer, {childList: true});\n",
       "}}\n",
       "\n",
       "// Listen for the clearing of the current output cell\n",
       "var outputEl = gd.closest('.output');\n",
       "if (outputEl) {{\n",
       "    x.observe(outputEl, {childList: true});\n",
       "}}\n",
       "\n",
       "                        })\n",
       "                };\n",
       "                });\n",
       "            </script>\n",
       "        </div>"
      ]
     },
     "metadata": {},
     "output_type": "display_data"
    }
   ],
   "source": [
    "idx = 735\n",
    "indices = signal.find_peaks(X_l_f.iloc[idx,:].values,prominence=0.1)[0]\n",
    "fig = go.Figure()\n",
    "fig.add_trace(go.Scatter(\n",
    "    y=X_l_f.iloc[idx,:].values,\n",
    "    mode='lines+markers',\n",
    "    name='Original Plot'\n",
    "))\n",
    "\n",
    "fig.add_trace(go.Scatter(\n",
    "    x=indices,\n",
    "    y=[X_l_f.iloc[idx,:].values[j] for j in indices],\n",
    "    mode='markers',\n",
    "    marker=dict(\n",
    "        size=8,\n",
    "        color='red',\n",
    "        symbol='cross'\n",
    "    ),\n",
    "    name='Detected Peaks'\n",
    "))\n",
    "\n",
    "fig.show()\n"
   ]
  },
  {
   "cell_type": "code",
   "execution_count": 135,
   "metadata": {},
   "outputs": [],
   "source": [
    "labels = labels.to_frame()\n",
    "labels.columns=['label']"
   ]
  },
  {
   "cell_type": "code",
   "execution_count": 136,
   "metadata": {
    "pycharm": {
     "is_executing": false,
     "name": "#%%\n"
    }
   },
   "outputs": [],
   "source": [
    "peak_df.to_csv('peak_signals.csv')\n",
    "labels.to_csv('peak_labels.csv')\n",
    "peak_u_df.to_csv('peak_signals_unlabelled.csv')"
   ]
  },
  {
   "cell_type": "markdown",
   "metadata": {
    "pycharm": {
     "name": "#%% md\n"
    }
   },
   "source": [
    "## Training Peak Data\n",
    "We will now try to predict whether a peak is a real peak from the data.\n",
    "We have some unlabelled input, which we will try to use to our advantage using semi-supervised learning.\n",
    "\n"
   ]
  },
  {
   "cell_type": "code",
   "execution_count": 116,
   "metadata": {
    "pycharm": {
     "is_executing": false,
     "name": "#%%\n"
    }
   },
   "outputs": [],
   "source": [
    "from sklearn.neighbors import KNeighborsClassifier\n",
    "from sklearn.ensemble import RandomForestClassifier,BaggingClassifier\n",
    "from sklearn.metrics import f1_score\n",
    "from sklearn.model_selection import cross_val_score\n",
    "\n"
   ]
  },
  {
   "cell_type": "code",
   "execution_count": 137,
   "metadata": {
    "pycharm": {
     "is_executing": false,
     "name": "#%%\n"
    }
   },
   "outputs": [],
   "source": [
    "peak_df = pd.read_csv('peak_signals.csv',index_col=0)\n",
    "labels = pd.read_csv('peak_labels.csv',index_col=0)\n",
    "peak_u_df = pd.read_csv('peak_signals_unlabelled.csv',index_col=0)"
   ]
  },
  {
   "cell_type": "code",
   "execution_count": 141,
   "metadata": {
    "pycharm": {
     "is_executing": false,
     "name": "#%%\n"
    }
   },
   "outputs": [
    {
     "data": {
      "text/html": [
       "<div>\n",
       "<style scoped>\n",
       "    .dataframe tbody tr th:only-of-type {\n",
       "        vertical-align: middle;\n",
       "    }\n",
       "\n",
       "    .dataframe tbody tr th {\n",
       "        vertical-align: top;\n",
       "    }\n",
       "\n",
       "    .dataframe thead th {\n",
       "        text-align: right;\n",
       "    }\n",
       "</style>\n",
       "<table border=\"1\" class=\"dataframe\">\n",
       "  <thead>\n",
       "    <tr style=\"text-align: right;\">\n",
       "      <th></th>\n",
       "      <th>x</th>\n",
       "      <th>2</th>\n",
       "      <th>3</th>\n",
       "      <th>4</th>\n",
       "      <th>5</th>\n",
       "      <th>6</th>\n",
       "      <th>7</th>\n",
       "      <th>8</th>\n",
       "      <th>9</th>\n",
       "      <th>10</th>\n",
       "      <th>...</th>\n",
       "      <th>12</th>\n",
       "      <th>13</th>\n",
       "      <th>14</th>\n",
       "      <th>15</th>\n",
       "      <th>16</th>\n",
       "      <th>17</th>\n",
       "      <th>18</th>\n",
       "      <th>19</th>\n",
       "      <th>20</th>\n",
       "      <th>21</th>\n",
       "    </tr>\n",
       "  </thead>\n",
       "  <tbody>\n",
       "    <tr>\n",
       "      <th>0</th>\n",
       "      <td>1657</td>\n",
       "      <td>0.072214</td>\n",
       "      <td>0.084023</td>\n",
       "      <td>0.080332</td>\n",
       "      <td>0.085349</td>\n",
       "      <td>0.109464</td>\n",
       "      <td>0.142351</td>\n",
       "      <td>0.188487</td>\n",
       "      <td>0.258657</td>\n",
       "      <td>0.354917</td>\n",
       "      <td>...</td>\n",
       "      <td>0.506459</td>\n",
       "      <td>0.475301</td>\n",
       "      <td>0.389373</td>\n",
       "      <td>0.309256</td>\n",
       "      <td>0.251592</td>\n",
       "      <td>0.186901</td>\n",
       "      <td>0.144204</td>\n",
       "      <td>0.124257</td>\n",
       "      <td>0.103209</td>\n",
       "      <td>0.085576</td>\n",
       "    </tr>\n",
       "    <tr>\n",
       "      <th>1</th>\n",
       "      <td>1850</td>\n",
       "      <td>0.177055</td>\n",
       "      <td>0.294539</td>\n",
       "      <td>0.441576</td>\n",
       "      <td>0.564403</td>\n",
       "      <td>0.613771</td>\n",
       "      <td>0.594455</td>\n",
       "      <td>0.576869</td>\n",
       "      <td>0.628023</td>\n",
       "      <td>0.768377</td>\n",
       "      <td>...</td>\n",
       "      <td>1.000000</td>\n",
       "      <td>0.934976</td>\n",
       "      <td>0.803789</td>\n",
       "      <td>0.676313</td>\n",
       "      <td>0.607148</td>\n",
       "      <td>0.559899</td>\n",
       "      <td>0.510077</td>\n",
       "      <td>0.473239</td>\n",
       "      <td>0.427409</td>\n",
       "      <td>0.386399</td>\n",
       "    </tr>\n",
       "    <tr>\n",
       "      <th>2</th>\n",
       "      <td>1928</td>\n",
       "      <td>0.017496</td>\n",
       "      <td>0.038551</td>\n",
       "      <td>0.067809</td>\n",
       "      <td>0.087296</td>\n",
       "      <td>0.101900</td>\n",
       "      <td>0.128406</td>\n",
       "      <td>0.183925</td>\n",
       "      <td>0.269334</td>\n",
       "      <td>0.389496</td>\n",
       "      <td>...</td>\n",
       "      <td>0.547178</td>\n",
       "      <td>0.526926</td>\n",
       "      <td>0.459349</td>\n",
       "      <td>0.385905</td>\n",
       "      <td>0.329654</td>\n",
       "      <td>0.296976</td>\n",
       "      <td>0.265732</td>\n",
       "      <td>0.258762</td>\n",
       "      <td>0.248773</td>\n",
       "      <td>0.235170</td>\n",
       "    </tr>\n",
       "    <tr>\n",
       "      <th>3</th>\n",
       "      <td>1943</td>\n",
       "      <td>0.296976</td>\n",
       "      <td>0.265732</td>\n",
       "      <td>0.258762</td>\n",
       "      <td>0.248773</td>\n",
       "      <td>0.235170</td>\n",
       "      <td>0.239287</td>\n",
       "      <td>0.278478</td>\n",
       "      <td>0.347079</td>\n",
       "      <td>0.452334</td>\n",
       "      <td>...</td>\n",
       "      <td>0.645148</td>\n",
       "      <td>0.641077</td>\n",
       "      <td>0.569082</td>\n",
       "      <td>0.467756</td>\n",
       "      <td>0.397629</td>\n",
       "      <td>0.339014</td>\n",
       "      <td>0.283918</td>\n",
       "      <td>0.234427</td>\n",
       "      <td>0.205282</td>\n",
       "      <td>0.190497</td>\n",
       "    </tr>\n",
       "    <tr>\n",
       "      <th>4</th>\n",
       "      <td>1642</td>\n",
       "      <td>0.062819</td>\n",
       "      <td>0.085935</td>\n",
       "      <td>0.097649</td>\n",
       "      <td>0.096528</td>\n",
       "      <td>0.105490</td>\n",
       "      <td>0.136676</td>\n",
       "      <td>0.185408</td>\n",
       "      <td>0.233831</td>\n",
       "      <td>0.322183</td>\n",
       "      <td>...</td>\n",
       "      <td>0.562444</td>\n",
       "      <td>0.545554</td>\n",
       "      <td>0.459734</td>\n",
       "      <td>0.373628</td>\n",
       "      <td>0.294097</td>\n",
       "      <td>0.220443</td>\n",
       "      <td>0.160111</td>\n",
       "      <td>0.117794</td>\n",
       "      <td>0.098581</td>\n",
       "      <td>0.090342</td>\n",
       "    </tr>\n",
       "  </tbody>\n",
       "</table>\n",
       "<p>5 rows × 21 columns</p>\n",
       "</div>"
      ],
      "text/plain": [
       "      x         2         3         4         5         6         7         8  \\\n",
       "0  1657  0.072214  0.084023  0.080332  0.085349  0.109464  0.142351  0.188487   \n",
       "1  1850  0.177055  0.294539  0.441576  0.564403  0.613771  0.594455  0.576869   \n",
       "2  1928  0.017496  0.038551  0.067809  0.087296  0.101900  0.128406  0.183925   \n",
       "3  1943  0.296976  0.265732  0.258762  0.248773  0.235170  0.239287  0.278478   \n",
       "4  1642  0.062819  0.085935  0.097649  0.096528  0.105490  0.136676  0.185408   \n",
       "\n",
       "          9        10  ...        12        13        14        15        16  \\\n",
       "0  0.258657  0.354917  ...  0.506459  0.475301  0.389373  0.309256  0.251592   \n",
       "1  0.628023  0.768377  ...  1.000000  0.934976  0.803789  0.676313  0.607148   \n",
       "2  0.269334  0.389496  ...  0.547178  0.526926  0.459349  0.385905  0.329654   \n",
       "3  0.347079  0.452334  ...  0.645148  0.641077  0.569082  0.467756  0.397629   \n",
       "4  0.233831  0.322183  ...  0.562444  0.545554  0.459734  0.373628  0.294097   \n",
       "\n",
       "         17        18        19        20        21  \n",
       "0  0.186901  0.144204  0.124257  0.103209  0.085576  \n",
       "1  0.559899  0.510077  0.473239  0.427409  0.386399  \n",
       "2  0.296976  0.265732  0.258762  0.248773  0.235170  \n",
       "3  0.339014  0.283918  0.234427  0.205282  0.190497  \n",
       "4  0.220443  0.160111  0.117794  0.098581  0.090342  \n",
       "\n",
       "[5 rows x 21 columns]"
      ]
     },
     "execution_count": 141,
     "metadata": {},
     "output_type": "execute_result"
    }
   ],
   "source": [
    "peak_df.drop('file_id',axis=1,inplace=True)\n",
    "peak_df.head()"
   ]
  },
  {
   "cell_type": "code",
   "execution_count": 139,
   "metadata": {},
   "outputs": [
    {
     "data": {
      "text/html": [
       "<div>\n",
       "<style scoped>\n",
       "    .dataframe tbody tr th:only-of-type {\n",
       "        vertical-align: middle;\n",
       "    }\n",
       "\n",
       "    .dataframe tbody tr th {\n",
       "        vertical-align: top;\n",
       "    }\n",
       "\n",
       "    .dataframe thead th {\n",
       "        text-align: right;\n",
       "    }\n",
       "</style>\n",
       "<table border=\"1\" class=\"dataframe\">\n",
       "  <thead>\n",
       "    <tr style=\"text-align: right;\">\n",
       "      <th></th>\n",
       "      <th>label</th>\n",
       "    </tr>\n",
       "  </thead>\n",
       "  <tbody>\n",
       "    <tr>\n",
       "      <th>0</th>\n",
       "      <td>0</td>\n",
       "    </tr>\n",
       "    <tr>\n",
       "      <th>1</th>\n",
       "      <td>1</td>\n",
       "    </tr>\n",
       "    <tr>\n",
       "      <th>2</th>\n",
       "      <td>1</td>\n",
       "    </tr>\n",
       "    <tr>\n",
       "      <th>3</th>\n",
       "      <td>1</td>\n",
       "    </tr>\n",
       "    <tr>\n",
       "      <th>4</th>\n",
       "      <td>0</td>\n",
       "    </tr>\n",
       "  </tbody>\n",
       "</table>\n",
       "</div>"
      ],
      "text/plain": [
       "   label\n",
       "0      0\n",
       "1      1\n",
       "2      1\n",
       "3      1\n",
       "4      0"
      ]
     },
     "execution_count": 139,
     "metadata": {},
     "output_type": "execute_result"
    }
   ],
   "source": [
    "labels.head()"
   ]
  },
  {
   "cell_type": "code",
   "execution_count": null,
   "metadata": {},
   "outputs": [],
   "source": [
    "model = KNeighborsClassifier()\n",
    "model.fit(x)"
   ]
  },
  {
   "cell_type": "code",
   "execution_count": 142,
   "metadata": {
    "pycharm": {
     "is_executing": false,
     "name": "#%%\n"
    }
   },
   "outputs": [
    {
     "name": "stdout",
     "output_type": "stream",
     "text": [
      "KNeighborsClassifier      CV-5 F1 SCORE: nan (+- nan)\n",
      "RandomForestClassifier    CV-5 F1 SCORE: nan (+- nan)\n"
     ]
    },
    {
     "name": "stderr",
     "output_type": "stream",
     "text": [
      "/anaconda3/envs/ScoringElectropherograms/lib/python3.7/site-packages/sklearn/model_selection/_validation.py:536: FitFailedWarning:\n",
      "\n",
      "Estimator fit failed. The score on this train-test partition for these parameters will be set to nan. Details: \n",
      "ValueError: Input contains NaN, infinity or a value too large for dtype('float64').\n",
      "\n",
      "\n",
      "/anaconda3/envs/ScoringElectropherograms/lib/python3.7/site-packages/sklearn/model_selection/_validation.py:536: FitFailedWarning:\n",
      "\n",
      "Estimator fit failed. The score on this train-test partition for these parameters will be set to nan. Details: \n",
      "ValueError: Input contains NaN, infinity or a value too large for dtype('float64').\n",
      "\n",
      "\n",
      "/anaconda3/envs/ScoringElectropherograms/lib/python3.7/site-packages/sklearn/model_selection/_validation.py:536: FitFailedWarning:\n",
      "\n",
      "Estimator fit failed. The score on this train-test partition for these parameters will be set to nan. Details: \n",
      "ValueError: Input contains NaN, infinity or a value too large for dtype('float64').\n",
      "\n",
      "\n",
      "/anaconda3/envs/ScoringElectropherograms/lib/python3.7/site-packages/sklearn/model_selection/_validation.py:536: FitFailedWarning:\n",
      "\n",
      "Estimator fit failed. The score on this train-test partition for these parameters will be set to nan. Details: \n",
      "ValueError: Input contains NaN, infinity or a value too large for dtype('float32').\n",
      "\n",
      "\n",
      "/anaconda3/envs/ScoringElectropherograms/lib/python3.7/site-packages/sklearn/model_selection/_validation.py:536: FitFailedWarning:\n",
      "\n",
      "Estimator fit failed. The score on this train-test partition for these parameters will be set to nan. Details: \n",
      "ValueError: Input contains NaN, infinity or a value too large for dtype('float32').\n",
      "\n",
      "\n",
      "/anaconda3/envs/ScoringElectropherograms/lib/python3.7/site-packages/sklearn/model_selection/_validation.py:536: FitFailedWarning:\n",
      "\n",
      "Estimator fit failed. The score on this train-test partition for these parameters will be set to nan. Details: \n",
      "ValueError: Input contains NaN, infinity or a value too large for dtype('float32').\n",
      "\n",
      "\n"
     ]
    }
   ],
   "source": [
    "classifier_factory = [KNeighborsClassifier(),RandomForestClassifier()]\n",
    "num_folds = 3\n",
    "for model in classifier_factory:\n",
    "    \n",
    "    scores = cross_val_score(model,peak_df,labels,cv=num_folds,scoring='f1')\n",
    "    score_description = \"%0.2f (+- %0.2f)\" % (scores.mean(),scores.std())\n",
    "    print('{model:25} CV-5 F1 SCORE: {score}'.format(\n",
    "        model= model.__class__.__name__,\n",
    "        score=score_description\n",
    "    ) )"
   ]
  },
  {
   "cell_type": "code",
   "execution_count": null,
   "metadata": {},
   "outputs": [],
   "source": []
  }
 ],
 "metadata": {
  "kernelspec": {
   "display_name": "Python 3",
   "language": "python",
   "name": "python3"
  },
  "language_info": {
   "codemirror_mode": {
    "name": "ipython",
    "version": 3
   },
   "file_extension": ".py",
   "mimetype": "text/x-python",
   "name": "python",
   "nbconvert_exporter": "python",
   "pygments_lexer": "ipython3",
   "version": "3.7.6"
  },
  "pycharm": {
   "stem_cell": {
    "cell_type": "raw",
    "metadata": {
     "collapsed": false
    },
    "source": []
   }
  }
 },
 "nbformat": 4,
 "nbformat_minor": 1
}
